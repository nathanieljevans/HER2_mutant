{
 "cells": [
  {
   "cell_type": "code",
   "execution_count": 1,
   "id": "137663f5",
   "metadata": {},
   "outputs": [],
   "source": [
    "import numpy as np \n",
    "import pandas as pd\n",
    "from matplotlib import pyplot as plt \n",
    "import seaborn as sbn \n",
    "\n",
    "import statsmodels.api as sm\n",
    "from statsmodels.formula.api import ols, logit\n",
    "\n",
    "import os "
   ]
  },
  {
   "cell_type": "markdown",
   "id": "47a06f09",
   "metadata": {},
   "source": [
    "# Aggregate results\n",
    "\n",
    "The results of the sensitivity analysis (outputs of running ```$ python HER2_sensitivity_runs.sh```) are saved in the realative path `OUT_DIR`, which will need to be manually set in the next cell. The results of each analysis (with different hyper parameters) will be aggregated into final dataframes for use in making final resistance/sensitivity calls. If there are questions or concerns with any specific set of hyper-parameters, the figures out output files are available for inspection. "
   ]
  },
  {
   "cell_type": "code",
   "execution_count": 2,
   "id": "12a319d0",
   "metadata": {},
   "outputs": [
    {
     "data": {
      "text/html": [
       "<div>\n",
       "<style scoped>\n",
       "    .dataframe tbody tr th:only-of-type {\n",
       "        vertical-align: middle;\n",
       "    }\n",
       "\n",
       "    .dataframe tbody tr th {\n",
       "        vertical-align: top;\n",
       "    }\n",
       "\n",
       "    .dataframe thead th {\n",
       "        text-align: right;\n",
       "    }\n",
       "</style>\n",
       "<table border=\"1\" class=\"dataframe\">\n",
       "  <thead>\n",
       "    <tr style=\"text-align: right;\">\n",
       "      <th></th>\n",
       "      <th>obs_id</th>\n",
       "      <th>pc1</th>\n",
       "      <th>pc2</th>\n",
       "      <th>treatment</th>\n",
       "      <th>mutant</th>\n",
       "      <th>exp_set</th>\n",
       "      <th>prob_res</th>\n",
       "      <th>prob_sens</th>\n",
       "      <th>call</th>\n",
       "      <th>odds_ratio</th>\n",
       "      <th>batch</th>\n",
       "      <th>PC1_batch_pval</th>\n",
       "      <th>PC1_batch_flag</th>\n",
       "      <th>PC2_batch_pval</th>\n",
       "      <th>PC2_batch_flag</th>\n",
       "      <th>drug</th>\n",
       "      <th>cell_track_count</th>\n",
       "      <th>low_data_flag</th>\n",
       "      <th>run_id</th>\n",
       "    </tr>\n",
       "  </thead>\n",
       "  <tbody>\n",
       "    <tr>\n",
       "      <th>0</th>\n",
       "      <td>0</td>\n",
       "      <td>0.219585</td>\n",
       "      <td>0.043269</td>\n",
       "      <td>neratinib</td>\n",
       "      <td>ND611</td>\n",
       "      <td>H210205_Set1_2</td>\n",
       "      <td>0.039922</td>\n",
       "      <td>0.960078</td>\n",
       "      <td>sens</td>\n",
       "      <td>0.041582</td>\n",
       "      <td>H210205_Set1_2</td>\n",
       "      <td>0.372182</td>\n",
       "      <td>False</td>\n",
       "      <td>0.065968</td>\n",
       "      <td>False</td>\n",
       "      <td>neratinib</td>\n",
       "      <td>1159</td>\n",
       "      <td>False</td>\n",
       "      <td>01946e65-dd74-460a-9b87-5c07aafe5759</td>\n",
       "    </tr>\n",
       "    <tr>\n",
       "      <th>1</th>\n",
       "      <td>1</td>\n",
       "      <td>0.234554</td>\n",
       "      <td>0.021988</td>\n",
       "      <td>neratinib</td>\n",
       "      <td>ND611</td>\n",
       "      <td>H210326_Set1</td>\n",
       "      <td>0.040474</td>\n",
       "      <td>0.959526</td>\n",
       "      <td>sens</td>\n",
       "      <td>0.042181</td>\n",
       "      <td>H210326_Set1</td>\n",
       "      <td>0.921107</td>\n",
       "      <td>False</td>\n",
       "      <td>0.154180</td>\n",
       "      <td>False</td>\n",
       "      <td>neratinib</td>\n",
       "      <td>1159</td>\n",
       "      <td>False</td>\n",
       "      <td>01946e65-dd74-460a-9b87-5c07aafe5759</td>\n",
       "    </tr>\n",
       "    <tr>\n",
       "      <th>2</th>\n",
       "      <td>2</td>\n",
       "      <td>0.223906</td>\n",
       "      <td>0.011933</td>\n",
       "      <td>neratinib</td>\n",
       "      <td>R678Q</td>\n",
       "      <td>H210423_Set1</td>\n",
       "      <td>0.040965</td>\n",
       "      <td>0.959035</td>\n",
       "      <td>sens</td>\n",
       "      <td>0.042715</td>\n",
       "      <td>H210423_Set1</td>\n",
       "      <td>0.757354</td>\n",
       "      <td>False</td>\n",
       "      <td>0.441946</td>\n",
       "      <td>False</td>\n",
       "      <td>neratinib</td>\n",
       "      <td>350</td>\n",
       "      <td>False</td>\n",
       "      <td>01946e65-dd74-460a-9b87-5c07aafe5759</td>\n",
       "    </tr>\n",
       "    <tr>\n",
       "      <th>3</th>\n",
       "      <td>3</td>\n",
       "      <td>0.205876</td>\n",
       "      <td>0.032010</td>\n",
       "      <td>neratinib</td>\n",
       "      <td>A1160V</td>\n",
       "      <td>H210409_Set1</td>\n",
       "      <td>0.041206</td>\n",
       "      <td>0.958794</td>\n",
       "      <td>sens</td>\n",
       "      <td>0.042977</td>\n",
       "      <td>H210409_Set1</td>\n",
       "      <td>0.929283</td>\n",
       "      <td>False</td>\n",
       "      <td>0.945408</td>\n",
       "      <td>False</td>\n",
       "      <td>neratinib</td>\n",
       "      <td>109</td>\n",
       "      <td>False</td>\n",
       "      <td>01946e65-dd74-460a-9b87-5c07aafe5759</td>\n",
       "    </tr>\n",
       "    <tr>\n",
       "      <th>4</th>\n",
       "      <td>4</td>\n",
       "      <td>0.204489</td>\n",
       "      <td>0.036558</td>\n",
       "      <td>neratinib</td>\n",
       "      <td>T306M</td>\n",
       "      <td>H210205_Set1_2</td>\n",
       "      <td>0.041444</td>\n",
       "      <td>0.958556</td>\n",
       "      <td>sens</td>\n",
       "      <td>0.043236</td>\n",
       "      <td>H210205_Set1_2</td>\n",
       "      <td>0.372182</td>\n",
       "      <td>False</td>\n",
       "      <td>0.065968</td>\n",
       "      <td>False</td>\n",
       "      <td>neratinib</td>\n",
       "      <td>180</td>\n",
       "      <td>False</td>\n",
       "      <td>01946e65-dd74-460a-9b87-5c07aafe5759</td>\n",
       "    </tr>\n",
       "  </tbody>\n",
       "</table>\n",
       "</div>"
      ],
      "text/plain": [
       "   obs_id       pc1       pc2  treatment  mutant         exp_set  prob_res  \\\n",
       "0       0  0.219585  0.043269  neratinib   ND611  H210205_Set1_2  0.039922   \n",
       "1       1  0.234554  0.021988  neratinib   ND611    H210326_Set1  0.040474   \n",
       "2       2  0.223906  0.011933  neratinib   R678Q    H210423_Set1  0.040965   \n",
       "3       3  0.205876  0.032010  neratinib  A1160V    H210409_Set1  0.041206   \n",
       "4       4  0.204489  0.036558  neratinib   T306M  H210205_Set1_2  0.041444   \n",
       "\n",
       "   prob_sens  call  odds_ratio           batch  PC1_batch_pval  \\\n",
       "0   0.960078  sens    0.041582  H210205_Set1_2        0.372182   \n",
       "1   0.959526  sens    0.042181    H210326_Set1        0.921107   \n",
       "2   0.959035  sens    0.042715    H210423_Set1        0.757354   \n",
       "3   0.958794  sens    0.042977    H210409_Set1        0.929283   \n",
       "4   0.958556  sens    0.043236  H210205_Set1_2        0.372182   \n",
       "\n",
       "   PC1_batch_flag  PC2_batch_pval  PC2_batch_flag       drug  \\\n",
       "0           False        0.065968           False  neratinib   \n",
       "1           False        0.154180           False  neratinib   \n",
       "2           False        0.441946           False  neratinib   \n",
       "3           False        0.945408           False  neratinib   \n",
       "4           False        0.065968           False  neratinib   \n",
       "\n",
       "   cell_track_count  low_data_flag                                run_id  \n",
       "0              1159          False  01946e65-dd74-460a-9b87-5c07aafe5759  \n",
       "1              1159          False  01946e65-dd74-460a-9b87-5c07aafe5759  \n",
       "2               350          False  01946e65-dd74-460a-9b87-5c07aafe5759  \n",
       "3               109          False  01946e65-dd74-460a-9b87-5c07aafe5759  \n",
       "4               180          False  01946e65-dd74-460a-9b87-5c07aafe5759  "
      ]
     },
     "execution_count": 2,
     "metadata": {},
     "output_type": "execute_result"
    }
   ],
   "source": [
    "OUT_DIR = './trastuzumab_output/'\n",
    "CSV_OUT = './trastuzumab_SKBR3_results.csv'\n",
    "\n",
    "df = [] \n",
    "df2 = []\n",
    "for run in os.listdir(OUT_DIR): \n",
    "    run_res_path = OUT_DIR + run + '/run_results.csv'\n",
    "    if os.path.exists(run_res_path): \n",
    "        df.append( pd.read_csv(run_res_path) ) \n",
    "    else: \n",
    "        print(f'Directory not found! run id: {run}')\n",
    "        \n",
    "    prob_res_path = OUT_DIR + run + '/unlabeled_lines_results.csv' \n",
    "    if os.path.exists(prob_res_path): \n",
    "        prob_res = pd.read_csv(prob_res_path).assign(run_id=run)\n",
    "        df2.append(prob_res)\n",
    "        \n",
    "run_res = pd.concat(df, axis=0, ignore_index=True)\n",
    "prob_res = pd.concat(df2, axis=0, ignore_index=True).rename({'Unnamed: 0':'obs_id'}, axis=1)\n",
    "prob_res.head()"
   ]
  },
  {
   "cell_type": "code",
   "execution_count": 3,
   "id": "d18a42e1",
   "metadata": {},
   "outputs": [
    {
     "data": {
      "text/html": [
       "<div>\n",
       "<style scoped>\n",
       "    .dataframe tbody tr th:only-of-type {\n",
       "        vertical-align: middle;\n",
       "    }\n",
       "\n",
       "    .dataframe tbody tr th {\n",
       "        vertical-align: top;\n",
       "    }\n",
       "\n",
       "    .dataframe thead th {\n",
       "        text-align: right;\n",
       "    }\n",
       "</style>\n",
       "<table border=\"1\" class=\"dataframe\">\n",
       "  <thead>\n",
       "    <tr style=\"text-align: right;\">\n",
       "      <th></th>\n",
       "      <th>Unnamed: 0</th>\n",
       "      <th>accuracy(train)</th>\n",
       "      <th>pc1_var</th>\n",
       "      <th>pc2_var</th>\n",
       "      <th>kmeans_inertia</th>\n",
       "      <th>res_line</th>\n",
       "      <th>sens_line</th>\n",
       "      <th>drug</th>\n",
       "      <th>nclus</th>\n",
       "      <th>resample_sz</th>\n",
       "      <th>load</th>\n",
       "      <th>burnin</th>\n",
       "      <th>run_id</th>\n",
       "    </tr>\n",
       "  </thead>\n",
       "  <tbody>\n",
       "    <tr>\n",
       "      <th>0</th>\n",
       "      <td>0</td>\n",
       "      <td>1.0</td>\n",
       "      <td>0.451086</td>\n",
       "      <td>0.115006</td>\n",
       "      <td>2.142242</td>\n",
       "      <td>T798I</td>\n",
       "      <td>WT</td>\n",
       "      <td>neratinib</td>\n",
       "      <td>20</td>\n",
       "      <td>75</td>\n",
       "      <td>normalized</td>\n",
       "      <td>0</td>\n",
       "      <td>01946e65-dd74-460a-9b87-5c07aafe5759</td>\n",
       "    </tr>\n",
       "    <tr>\n",
       "      <th>1</th>\n",
       "      <td>0</td>\n",
       "      <td>1.0</td>\n",
       "      <td>0.503888</td>\n",
       "      <td>0.114101</td>\n",
       "      <td>2.019470</td>\n",
       "      <td>T798I</td>\n",
       "      <td>WT</td>\n",
       "      <td>neratinib</td>\n",
       "      <td>20</td>\n",
       "      <td>75</td>\n",
       "      <td>raw</td>\n",
       "      <td>10</td>\n",
       "      <td>01df38d4-be4f-467e-9d15-2298d9b21e88</td>\n",
       "    </tr>\n",
       "    <tr>\n",
       "      <th>2</th>\n",
       "      <td>0</td>\n",
       "      <td>1.0</td>\n",
       "      <td>0.505402</td>\n",
       "      <td>0.117029</td>\n",
       "      <td>3.717519</td>\n",
       "      <td>T798I</td>\n",
       "      <td>WT</td>\n",
       "      <td>neratinib</td>\n",
       "      <td>15</td>\n",
       "      <td>125</td>\n",
       "      <td>normalized</td>\n",
       "      <td>0</td>\n",
       "      <td>022fcd1a-2077-48fe-8cd2-1f751f770ef1</td>\n",
       "    </tr>\n",
       "    <tr>\n",
       "      <th>3</th>\n",
       "      <td>0</td>\n",
       "      <td>1.0</td>\n",
       "      <td>0.509594</td>\n",
       "      <td>0.109633</td>\n",
       "      <td>3.624761</td>\n",
       "      <td>T798I</td>\n",
       "      <td>WT</td>\n",
       "      <td>neratinib</td>\n",
       "      <td>20</td>\n",
       "      <td>125</td>\n",
       "      <td>raw</td>\n",
       "      <td>10</td>\n",
       "      <td>02a34f87-7476-478e-9699-9918e5c44cb6</td>\n",
       "    </tr>\n",
       "    <tr>\n",
       "      <th>4</th>\n",
       "      <td>0</td>\n",
       "      <td>1.0</td>\n",
       "      <td>0.490216</td>\n",
       "      <td>0.122273</td>\n",
       "      <td>3.705506</td>\n",
       "      <td>T798I</td>\n",
       "      <td>WT</td>\n",
       "      <td>neratinib</td>\n",
       "      <td>15</td>\n",
       "      <td>125</td>\n",
       "      <td>normalized</td>\n",
       "      <td>0</td>\n",
       "      <td>02d5eb1d-3742-4408-a568-b6bd9392a352</td>\n",
       "    </tr>\n",
       "  </tbody>\n",
       "</table>\n",
       "</div>"
      ],
      "text/plain": [
       "   Unnamed: 0  accuracy(train)   pc1_var   pc2_var  kmeans_inertia res_line  \\\n",
       "0           0              1.0  0.451086  0.115006        2.142242    T798I   \n",
       "1           0              1.0  0.503888  0.114101        2.019470    T798I   \n",
       "2           0              1.0  0.505402  0.117029        3.717519    T798I   \n",
       "3           0              1.0  0.509594  0.109633        3.624761    T798I   \n",
       "4           0              1.0  0.490216  0.122273        3.705506    T798I   \n",
       "\n",
       "  sens_line       drug  nclus  resample_sz        load  burnin  \\\n",
       "0        WT  neratinib     20           75  normalized       0   \n",
       "1        WT  neratinib     20           75         raw      10   \n",
       "2        WT  neratinib     15          125  normalized       0   \n",
       "3        WT  neratinib     20          125         raw      10   \n",
       "4        WT  neratinib     15          125  normalized       0   \n",
       "\n",
       "                                 run_id  \n",
       "0  01946e65-dd74-460a-9b87-5c07aafe5759  \n",
       "1  01df38d4-be4f-467e-9d15-2298d9b21e88  \n",
       "2  022fcd1a-2077-48fe-8cd2-1f751f770ef1  \n",
       "3  02a34f87-7476-478e-9699-9918e5c44cb6  \n",
       "4  02d5eb1d-3742-4408-a568-b6bd9392a352  "
      ]
     },
     "execution_count": 3,
     "metadata": {},
     "output_type": "execute_result"
    }
   ],
   "source": [
    "run_res.head()"
   ]
  },
  {
   "cell_type": "code",
   "execution_count": 4,
   "id": "021ad42b",
   "metadata": {},
   "outputs": [],
   "source": [
    "exp_params = run_res[['nclus', 'resample_sz', 'load', 'burnin']].drop_duplicates()\n",
    "all_data = prob_res.merge(run_res, on='run_id')"
   ]
  },
  {
   "cell_type": "markdown",
   "id": "55fbd101",
   "metadata": {},
   "source": [
    "--- \n",
    "\n",
    "# Summary"
   ]
  },
  {
   "cell_type": "code",
   "execution_count": 5,
   "id": "c09813aa",
   "metadata": {},
   "outputs": [
    {
     "name": "stdout",
     "output_type": "stream",
     "text": [
      "# of experiment hyper-parameters tested: 90\n",
      "# of mutants: 83\n",
      "# of experiments: 13\n",
      "# of treatments: 1 [['neratinib']]\n"
     ]
    }
   ],
   "source": [
    "print('# of experiment hyper-parameters tested:', len(exp_params))\n",
    "print('# of mutants:', prob_res.mutant.unique().shape[0])\n",
    "print('# of experiments:', prob_res.exp_set.unique().shape[0])\n",
    "print(f'# of treatments: {prob_res.treatment.unique().shape[0]} [{prob_res.treatment.unique()}]')"
   ]
  },
  {
   "cell_type": "markdown",
   "id": "a7251914",
   "metadata": {},
   "source": [
    "---\n",
    "\n",
    "# Batch effect flags \n",
    "\n",
    "Each analysis will assign two batch effect flags (for PC1 & PC2, independantly). This is done by running a regression to predict  the respective principle component from the experiment set (controls only); If the subsequent ANOVA shows a significant experiment set coefficient (p-val less that 0.05), than the flag is set. "
   ]
  },
  {
   "cell_type": "code",
   "execution_count": 6,
   "id": "a06e037b",
   "metadata": {},
   "outputs": [
    {
     "name": "stdout",
     "output_type": "stream",
     "text": [
      "                            OLS Regression Results                            \n",
      "==============================================================================\n",
      "Dep. Variable:         PC1_batch_pval   R-squared:                       0.029\n",
      "Model:                            OLS   Adj. R-squared:                  0.029\n",
      "Method:                 Least Squares   F-statistic:                     333.9\n",
      "Date:                Thu, 08 Jul 2021   Prob (F-statistic):          1.05e-283\n",
      "Time:                        10:35:10   Log-Likelihood:                -915.63\n",
      "No. Observations:               45000   AIC:                             1841.\n",
      "Df Residuals:                   44995   BIC:                             1885.\n",
      "Df Model:                           4                                         \n",
      "Covariance Type:            nonrobust                                         \n",
      "===============================================================================\n",
      "                  coef    std err          t      P>|t|      [0.025      0.975]\n",
      "-------------------------------------------------------------------------------\n",
      "Intercept       0.6821      0.006    106.362      0.000       0.670       0.695\n",
      "load[T.raw]    -0.0837      0.002    -35.960      0.000      -0.088      -0.079\n",
      "nclus          -0.0012      0.000     -6.484      0.000      -0.002      -0.001\n",
      "resample_sz -2.001e-05    5.7e-05     -0.351      0.726      -0.000    9.18e-05\n",
      "burnin         -0.0001      0.000     -0.503      0.615      -0.001       0.000\n",
      "==============================================================================\n",
      "Omnibus:                     5216.562   Durbin-Watson:                   2.026\n",
      "Prob(Omnibus):                  0.000   Jarque-Bera (JB):             3074.435\n",
      "Skew:                          -0.507   Prob(JB):                         0.00\n",
      "Kurtosis:                       2.219   Cond. No.                         567.\n",
      "==============================================================================\n",
      "\n",
      "Notes:\n",
      "[1] Standard Errors assume that the covariance matrix of the errors is correctly specified.\n"
     ]
    }
   ],
   "source": [
    "# test if any hyperparameters are predictive of low batch effect p-values. \n",
    "lm = ols('PC1_batch_pval ~ nclus + resample_sz + load + burnin', data=all_data).fit(maxiter=50) #Specify C for Categorical\n",
    "print( lm.summary() )"
   ]
  },
  {
   "cell_type": "code",
   "execution_count": 7,
   "id": "fc13c1dd",
   "metadata": {},
   "outputs": [
    {
     "data": {
      "image/png": "[encoded data removed]",
      "text/plain": [
       "<Figure size 1080x288 with 4 Axes>"
      ]
     },
     "metadata": {
      "needs_background": "light"
     },
     "output_type": "display_data"
    },
    {
     "data": {
      "text/plain": [
       "<Figure size 432x288 with 0 Axes>"
      ]
     },
     "metadata": {},
     "output_type": "display_data"
    }
   ],
   "source": [
    "f, axes = plt.subplots(1,4, figsize = (15,4), sharey=True)\n",
    "\n",
    "plt.figure()\n",
    "sbn.barplot(x='load', y='PC1_batch_flag', data=all_data, ax=axes.flat[0])\n",
    "axes.flat[0].set_ylabel('proportion of batch effect flags')\n",
    "sbn.barplot(x='nclus', y='PC1_batch_flag', data=all_data, ax=axes.flat[1])\n",
    "sbn.barplot(x='resample_sz', y='PC1_batch_flag', data=all_data, ax=axes.flat[2])\n",
    "sbn.barplot(x='burnin', y='PC1_batch_flag', data=all_data, ax=axes.flat[3])\n",
    "plt.show()"
   ]
  },
  {
   "cell_type": "code",
   "execution_count": 8,
   "id": "1d9b551d",
   "metadata": {},
   "outputs": [
    {
     "name": "stdout",
     "output_type": "stream",
     "text": [
      "                            OLS Regression Results                            \n",
      "==============================================================================\n",
      "Dep. Variable:         PC2_batch_pval   R-squared:                       0.041\n",
      "Model:                            OLS   Adj. R-squared:                  0.041\n",
      "Method:                 Least Squares   F-statistic:                     485.5\n",
      "Date:                Thu, 08 Jul 2021   Prob (F-statistic):               0.00\n",
      "Time:                        10:35:12   Log-Likelihood:                -988.60\n",
      "No. Observations:               45000   AIC:                             1987.\n",
      "Df Residuals:                   44995   BIC:                             2031.\n",
      "Df Model:                           4                                         \n",
      "Covariance Type:            nonrobust                                         \n",
      "===============================================================================\n",
      "                  coef    std err          t      P>|t|      [0.025      0.975]\n",
      "-------------------------------------------------------------------------------\n",
      "Intercept       0.6169      0.006     96.031      0.000       0.604       0.629\n",
      "load[T.raw]     0.0002      0.002      0.070      0.944      -0.004       0.005\n",
      "nclus          -0.0072      0.000    -38.787      0.000      -0.008      -0.007\n",
      "resample_sz     0.0002   5.71e-05      4.052      0.000       0.000       0.000\n",
      "burnin          0.0059      0.000     20.519      0.000       0.005       0.006\n",
      "==============================================================================\n",
      "Omnibus:                     6952.406   Durbin-Watson:                   1.843\n",
      "Prob(Omnibus):                  0.000   Jarque-Bera (JB):             2054.204\n",
      "Skew:                          -0.260   Prob(JB):                         0.00\n",
      "Kurtosis:                       2.091   Cond. No.                         567.\n",
      "==============================================================================\n",
      "\n",
      "Notes:\n",
      "[1] Standard Errors assume that the covariance matrix of the errors is correctly specified.\n"
     ]
    }
   ],
   "source": [
    "lm = ols('PC2_batch_pval ~ nclus + resample_sz + load + burnin', data=all_data).fit(maxiter=50) #Specify C for Categorical\n",
    "print( lm.summary() )"
   ]
  },
  {
   "cell_type": "code",
   "execution_count": 9,
   "id": "0b479af9",
   "metadata": {},
   "outputs": [
    {
     "data": {
      "image/png": "[encoded data removed]",
      "text/plain": [
       "<Figure size 1080x288 with 4 Axes>"
      ]
     },
     "metadata": {
      "needs_background": "light"
     },
     "output_type": "display_data"
    },
    {
     "data": {
      "text/plain": [
       "<Figure size 432x288 with 0 Axes>"
      ]
     },
     "metadata": {},
     "output_type": "display_data"
    }
   ],
   "source": [
    "f, axes = plt.subplots(1,4, figsize = (15,4), sharey=True)\n",
    "\n",
    "plt.figure()\n",
    "sbn.barplot(x='load', y='PC2_batch_flag', data=all_data, ax=axes.flat[0])\n",
    "axes.flat[0].set_ylabel('proportion of batch effect flags')\n",
    "sbn.barplot(x='nclus', y='PC2_batch_flag', data=all_data, ax=axes.flat[1])\n",
    "sbn.barplot(x='resample_sz', y='PC2_batch_flag', data=all_data, ax=axes.flat[2])\n",
    "sbn.barplot(x='burnin', y='PC2_batch_flag', data=all_data, ax=axes.flat[3])\n",
    "plt.show()"
   ]
  },
  {
   "cell_type": "markdown",
   "id": "76ecbfc0",
   "metadata": {},
   "source": [
    "## Did any one experiment have high batch effect flag proportions? "
   ]
  },
  {
   "cell_type": "code",
   "execution_count": 10,
   "id": "e6ff952e",
   "metadata": {},
   "outputs": [
    {
     "data": {
      "text/html": [
       "<div>\n",
       "<style scoped>\n",
       "    .dataframe tbody tr th:only-of-type {\n",
       "        vertical-align: middle;\n",
       "    }\n",
       "\n",
       "    .dataframe tbody tr th {\n",
       "        vertical-align: top;\n",
       "    }\n",
       "\n",
       "    .dataframe thead th {\n",
       "        text-align: right;\n",
       "    }\n",
       "</style>\n",
       "<table border=\"1\" class=\"dataframe\">\n",
       "  <thead>\n",
       "    <tr style=\"text-align: right;\">\n",
       "      <th></th>\n",
       "      <th>low_data_flag</th>\n",
       "      <th>PC1_batch_flag</th>\n",
       "      <th>PC2_batch_flag</th>\n",
       "      <th>cell_track_count</th>\n",
       "    </tr>\n",
       "    <tr>\n",
       "      <th>exp_set</th>\n",
       "      <th></th>\n",
       "      <th></th>\n",
       "      <th></th>\n",
       "      <th></th>\n",
       "    </tr>\n",
       "  </thead>\n",
       "  <tbody>\n",
       "    <tr>\n",
       "      <th>H210205_Set1_2</th>\n",
       "      <td>0.0</td>\n",
       "      <td>0.000000</td>\n",
       "      <td>0.017778</td>\n",
       "      <td>269.375000</td>\n",
       "    </tr>\n",
       "    <tr>\n",
       "      <th>H210205_Set2_2</th>\n",
       "      <td>0.0</td>\n",
       "      <td>0.000000</td>\n",
       "      <td>0.000000</td>\n",
       "      <td>322.000000</td>\n",
       "    </tr>\n",
       "    <tr>\n",
       "      <th>H210212_Set1</th>\n",
       "      <td>0.0</td>\n",
       "      <td>0.142222</td>\n",
       "      <td>0.033333</td>\n",
       "      <td>267.142857</td>\n",
       "    </tr>\n",
       "    <tr>\n",
       "      <th>H210212_Set2</th>\n",
       "      <td>0.0</td>\n",
       "      <td>0.000000</td>\n",
       "      <td>0.000000</td>\n",
       "      <td>200.625000</td>\n",
       "    </tr>\n",
       "    <tr>\n",
       "      <th>H210219_Set1</th>\n",
       "      <td>0.0</td>\n",
       "      <td>0.000000</td>\n",
       "      <td>0.000000</td>\n",
       "      <td>329.000000</td>\n",
       "    </tr>\n",
       "    <tr>\n",
       "      <th>H210219_Set2</th>\n",
       "      <td>0.0</td>\n",
       "      <td>0.000000</td>\n",
       "      <td>0.000000</td>\n",
       "      <td>293.375000</td>\n",
       "    </tr>\n",
       "    <tr>\n",
       "      <th>H210326_Set1</th>\n",
       "      <td>0.0</td>\n",
       "      <td>0.000000</td>\n",
       "      <td>0.020000</td>\n",
       "      <td>197.625000</td>\n",
       "    </tr>\n",
       "    <tr>\n",
       "      <th>H210326_Set2</th>\n",
       "      <td>0.0</td>\n",
       "      <td>0.000000</td>\n",
       "      <td>0.000000</td>\n",
       "      <td>223.625000</td>\n",
       "    </tr>\n",
       "    <tr>\n",
       "      <th>H210401_Set1</th>\n",
       "      <td>0.0</td>\n",
       "      <td>0.000000</td>\n",
       "      <td>0.000000</td>\n",
       "      <td>257.000000</td>\n",
       "    </tr>\n",
       "    <tr>\n",
       "      <th>H210401_Set2</th>\n",
       "      <td>0.0</td>\n",
       "      <td>0.000000</td>\n",
       "      <td>0.000000</td>\n",
       "      <td>236.142857</td>\n",
       "    </tr>\n",
       "    <tr>\n",
       "      <th>H210409_Set1</th>\n",
       "      <td>0.0</td>\n",
       "      <td>0.000000</td>\n",
       "      <td>0.000000</td>\n",
       "      <td>219.375000</td>\n",
       "    </tr>\n",
       "    <tr>\n",
       "      <th>H210409_Set2</th>\n",
       "      <td>0.0</td>\n",
       "      <td>0.000000</td>\n",
       "      <td>0.000000</td>\n",
       "      <td>239.625000</td>\n",
       "    </tr>\n",
       "    <tr>\n",
       "      <th>H210423_Set1</th>\n",
       "      <td>0.0</td>\n",
       "      <td>0.000000</td>\n",
       "      <td>0.000000</td>\n",
       "      <td>285.375000</td>\n",
       "    </tr>\n",
       "  </tbody>\n",
       "</table>\n",
       "</div>"
      ],
      "text/plain": [
       "                low_data_flag  PC1_batch_flag  PC2_batch_flag  \\\n",
       "exp_set                                                         \n",
       "H210205_Set1_2            0.0        0.000000        0.017778   \n",
       "H210205_Set2_2            0.0        0.000000        0.000000   \n",
       "H210212_Set1              0.0        0.142222        0.033333   \n",
       "H210212_Set2              0.0        0.000000        0.000000   \n",
       "H210219_Set1              0.0        0.000000        0.000000   \n",
       "H210219_Set2              0.0        0.000000        0.000000   \n",
       "H210326_Set1              0.0        0.000000        0.020000   \n",
       "H210326_Set2              0.0        0.000000        0.000000   \n",
       "H210401_Set1              0.0        0.000000        0.000000   \n",
       "H210401_Set2              0.0        0.000000        0.000000   \n",
       "H210409_Set1              0.0        0.000000        0.000000   \n",
       "H210409_Set2              0.0        0.000000        0.000000   \n",
       "H210423_Set1              0.0        0.000000        0.000000   \n",
       "\n",
       "                cell_track_count  \n",
       "exp_set                           \n",
       "H210205_Set1_2        269.375000  \n",
       "H210205_Set2_2        322.000000  \n",
       "H210212_Set1          267.142857  \n",
       "H210212_Set2          200.625000  \n",
       "H210219_Set1          329.000000  \n",
       "H210219_Set2          293.375000  \n",
       "H210326_Set1          197.625000  \n",
       "H210326_Set2          223.625000  \n",
       "H210401_Set1          257.000000  \n",
       "H210401_Set2          236.142857  \n",
       "H210409_Set1          219.375000  \n",
       "H210409_Set2          239.625000  \n",
       "H210423_Set1          285.375000  "
      ]
     },
     "execution_count": 10,
     "metadata": {},
     "output_type": "execute_result"
    }
   ],
   "source": [
    "# computing the average # of flags within each set + avg cell # of cell tracks \n",
    "# e.g., value of 0.14 for PC1_batch_flag below indicates that 14% of single analysis runs assigned a batch effect for PC1 in that experiment set. \n",
    "all_data.groupby('exp_set')[['low_data_flag', 'PC1_batch_flag', 'PC2_batch_flag', 'cell_track_count']].mean()"
   ]
  },
  {
   "cell_type": "markdown",
   "id": "9a865328",
   "metadata": {},
   "source": [
    "# Low Data Flag \n",
    "\n",
    "Lowe data flags are set if any group (cell line, mutant, treatment) has less than 5% of the median number of cell tracks. "
   ]
  },
  {
   "cell_type": "code",
   "execution_count": 11,
   "id": "5e5f6df6",
   "metadata": {},
   "outputs": [
    {
     "data": {
      "text/plain": [
       "False"
      ]
     },
     "execution_count": 11,
     "metadata": {},
     "output_type": "execute_result"
    }
   ],
   "source": [
    "prob_res[['mutant', 'low_data_flag']].low_data_flag.any()"
   ]
  },
  {
   "cell_type": "markdown",
   "id": "a5a26fcc",
   "metadata": {},
   "source": [
    "# Train accuracy \n",
    "\n",
    "This quantifies how well the controls (resistant mutant and sensitive mutant under treatment) separate in PC-space. Poor training accuracy indicates that the analysis had a difficult time distinguishing sensitive response from resistant response, and so it's important to understand if any hyper parameters contribute to the separability. "
   ]
  },
  {
   "cell_type": "code",
   "execution_count": 12,
   "id": "2a706f81",
   "metadata": {},
   "outputs": [
    {
     "name": "stdout",
     "output_type": "stream",
     "text": [
      "                            OLS Regression Results                            \n",
      "==============================================================================\n",
      "Dep. Variable:               accuracy   R-squared:                       0.025\n",
      "Model:                            OLS   Adj. R-squared:                  0.018\n",
      "Method:                 Least Squares   F-statistic:                     3.758\n",
      "Date:                Thu, 08 Jul 2021   Prob (F-statistic):             0.0110\n",
      "Time:                        10:35:13   Log-Likelihood:                 1718.0\n",
      "No. Observations:                 450   AIC:                            -3428.\n",
      "Df Residuals:                     446   BIC:                            -3412.\n",
      "Df Model:                           3                                         \n",
      "Covariance Type:            nonrobust                                         \n",
      "===============================================================================\n",
      "                  coef    std err          t      P>|t|      [0.025      0.975]\n",
      "-------------------------------------------------------------------------------\n",
      "Intercept       1.0011      0.001    740.178      0.000       0.998       1.004\n",
      "load[T.raw]    -0.0015      0.001     -3.055      0.002      -0.003      -0.001\n",
      "nclus       -5.331e-05   4.01e-05     -1.330      0.184      -0.000    2.55e-05\n",
      "resample_sz -5.128e-06   1.23e-05     -0.416      0.678   -2.94e-05    1.91e-05\n",
      "==============================================================================\n",
      "Omnibus:                      579.795   Durbin-Watson:                   2.018\n",
      "Prob(Omnibus):                  0.000   Jarque-Bera (JB):            37436.415\n",
      "Skew:                          -6.595   Prob(JB):                         0.00\n",
      "Kurtosis:                      45.692   Cond. No.                         553.\n",
      "==============================================================================\n",
      "\n",
      "Notes:\n",
      "[1] Standard Errors assume that the covariance matrix of the errors is correctly specified.\n"
     ]
    }
   ],
   "source": [
    "lm = ols('accuracy ~ nclus + resample_sz + load', data=run_res.rename({'accuracy(train)':'accuracy'}, axis=1)).fit() #Specify C for Categorical\n",
    "print(lm.summary())"
   ]
  },
  {
   "cell_type": "markdown",
   "id": "4aca747b",
   "metadata": {},
   "source": [
    "# Concordant sensitive/resistance probabilities \n",
    "\n",
    "To examine the stability of the predicted probabilities **across replicates** (e.g., between analysis with different hyper-parameters), we can examine the clustered heatmap of predicted resistance probabilities. High positive correlation indicates that pairwise predicted probability between two analysis runs were the same or similar. *Negative correlation, or no correlation would indicate contridictory probability predictions.* "
   ]
  },
  {
   "cell_type": "code",
   "execution_count": 13,
   "id": "3eff977a",
   "metadata": {},
   "outputs": [
    {
     "name": "stderr",
     "output_type": "stream",
     "text": [
      "/home/teddy/miniconda3/envs/HER2/lib/python3.8/site-packages/seaborn/matrix.py:649: UserWarning: Clustering large matrix with scipy. Installing `fastcluster` may give better performance.\n",
      "  warnings.warn(msg)\n"
     ]
    },
    {
     "data": {
      "text/plain": [
       "<seaborn.matrix.ClusterGrid at 0x7f2921a76520>"
      ]
     },
     "execution_count": 13,
     "metadata": {},
     "output_type": "execute_result"
    },
    {
     "data": {
      "image/png": "[encoded data removed]",
      "text/plain": [
       "<Figure size 720x720 with 5 Axes>"
      ]
     },
     "metadata": {
      "needs_background": "light"
     },
     "output_type": "display_data"
    }
   ],
   "source": [
    "norm = lambda x, y: (x-min(y))/ (max(y) - min(y)) \n",
    "\n",
    "nclus_ = {row.run_id:[0., 1- norm(row.nclus,run_res.nclus),0., 0.5] for i,row in run_res.iterrows()}\n",
    "nclus_colors = run_res['run_id'].map(nclus_).rename('nclus')\n",
    "\n",
    "load_ = {row.run_id:'k' if (row.load == 'normalized') else 'w' for i,row in run_res.iterrows()}\n",
    "load_colors = run_res['run_id'].map(load_).rename('load')\n",
    "\n",
    "resamp_ = {row.run_id:[1 - norm(row.resample_sz,run_res.resample_sz), 0., 0., 0.5] for i,row in run_res.iterrows()}\n",
    "resamp_colors = run_res['run_id'].map(resamp_).rename('resample_sz')\n",
    "\n",
    "row_colors = pd.concat([nclus_colors, load_colors, resamp_colors], axis=1)\n",
    "row_colors = row_colors.set_index(run_res.run_id)\n",
    "\n",
    "#print(row_colors)\n",
    "\n",
    "#ids_tokeep = run_res[lambda x: (x.nclus < 35)].run_id.values\n",
    "#prob_res2 = prob_res[lambda x: x.run_id.isin(ids_tokeep)]\n",
    "\n",
    "prob_res2 = prob_res.merge(run_res, on='run_id').pivot(columns='run_id', index='obs_id', values='prob_res')\n",
    "res_mat = prob_res2.corr().fillna(0)\n",
    "sbn.clustermap(res_mat, vmin=0, vmax=1, center=0.5, row_colors=row_colors, figsize=(10,10))"
   ]
  },
  {
   "cell_type": "markdown",
   "id": "99428221",
   "metadata": {},
   "source": [
    "# Consensus Probability/Resistance Calls \n",
    "\n",
    "Using the results of all analysis runs (with different configurations) we can assign sens/res labels based on the consensus calls. "
   ]
  },
  {
   "cell_type": "code",
   "execution_count": 14,
   "id": "c2077ef1",
   "metadata": {},
   "outputs": [],
   "source": [
    "conc_calls = prob_res.groupby(['mutant', 'call']).count()[['run_id']].reset_index().set_index('mutant') \\\n",
    "                    .pivot(columns='call', values='run_id').fillna(value=0) \\\n",
    "                    .assign(prop_call_res=lambda x: x.res / (x.res + x.sens + x['no-call']))\\\n",
    "                    .assign(prop_call_sens=lambda x: x.sens / (x.res + x.sens + x['no-call']))\\\n",
    "                    .assign(prop_call_nocall=lambda x: x['no-call'] / (x.res + x.sens + x['no-call']))\n",
    "\n",
    "conc_calls = conc_calls.merge(prob_res[['mutant', 'cell_track_count']].drop_duplicates(), on='mutant')\n",
    "conc_calls = conc_calls.merge(prob_res[['mutant', 'PC1_batch_flag', 'PC2_batch_flag']].groupby('mutant').agg('mean').reset_index())\n",
    "conc_calls = conc_calls.rename({'PC1_batch_flag': 'prop_PC1_batch_flag', 'PC2_batch_flag': 'prop_PC2_batch_flag'}, axis=1)"
   ]
  },
  {
   "cell_type": "code",
   "execution_count": 15,
   "id": "4d087ada",
   "metadata": {},
   "outputs": [
    {
     "data": {
      "text/plain": [
       "(83, 10)"
      ]
     },
     "execution_count": 15,
     "metadata": {},
     "output_type": "execute_result"
    }
   ],
   "source": [
    "# should be (83, 10)\n",
    "conc_calls.shape"
   ]
  },
  {
   "cell_type": "code",
   "execution_count": 16,
   "id": "7facfcf4",
   "metadata": {},
   "outputs": [
    {
     "data": {
      "text/html": [
       "<div>\n",
       "<style scoped>\n",
       "    .dataframe tbody tr th:only-of-type {\n",
       "        vertical-align: middle;\n",
       "    }\n",
       "\n",
       "    .dataframe tbody tr th {\n",
       "        vertical-align: top;\n",
       "    }\n",
       "\n",
       "    .dataframe thead th {\n",
       "        text-align: right;\n",
       "    }\n",
       "</style>\n",
       "<table border=\"1\" class=\"dataframe\">\n",
       "  <thead>\n",
       "    <tr style=\"text-align: right;\">\n",
       "      <th></th>\n",
       "      <th>mutant</th>\n",
       "      <th>no-call</th>\n",
       "      <th>res</th>\n",
       "      <th>sens</th>\n",
       "      <th>prop_call_res</th>\n",
       "      <th>prop_call_sens</th>\n",
       "      <th>prop_call_nocall</th>\n",
       "      <th>cell_track_count</th>\n",
       "      <th>prop_PC1_batch_flag</th>\n",
       "      <th>prop_PC2_batch_flag</th>\n",
       "    </tr>\n",
       "  </thead>\n",
       "  <tbody>\n",
       "  </tbody>\n",
       "</table>\n",
       "</div>"
      ],
      "text/plain": [
       "Empty DataFrame\n",
       "Columns: [mutant, no-call, res, sens, prop_call_res, prop_call_sens, prop_call_nocall, cell_track_count, prop_PC1_batch_flag, prop_PC2_batch_flag]\n",
       "Index: []"
      ]
     },
     "execution_count": 16,
     "metadata": {},
     "output_type": "execute_result"
    }
   ],
   "source": [
    "# should have no na's (e.g., empty is good)\n",
    "conc_calls[conc_calls.isna().values.any(axis=1)]"
   ]
  },
  {
   "cell_type": "code",
   "execution_count": 17,
   "id": "0105bcc3",
   "metadata": {},
   "outputs": [
    {
     "data": {
      "text/plain": [
       "array([ 450.,  900., 5850.])"
      ]
     },
     "execution_count": 17,
     "metadata": {},
     "output_type": "execute_result"
    }
   ],
   "source": [
    "# 90 single-analysis runs * 5 replicats = 450 \n",
    "# some mutants were run twice \n",
    "# ND611/T798I/WT are run with every experiment (90*5*13 experiments = 5850)\n",
    "conc_calls[['no-call', 'res', 'sens']].sum(axis=1).unique()"
   ]
  },
  {
   "cell_type": "code",
   "execution_count": 18,
   "id": "117cdb03",
   "metadata": {},
   "outputs": [],
   "source": [
    "# save concordant calls to file \n",
    "conc_calls.to_csv(CSV_OUT)"
   ]
  },
  {
   "cell_type": "markdown",
   "id": "2f7614e4",
   "metadata": {},
   "source": [
    "## Sorted by proportion of calls made as `resistant`"
   ]
  },
  {
   "cell_type": "code",
   "execution_count": 19,
   "id": "b5f3ba54",
   "metadata": {},
   "outputs": [
    {
     "data": {
      "text/html": [
       "<div>\n",
       "<style scoped>\n",
       "    .dataframe tbody tr th:only-of-type {\n",
       "        vertical-align: middle;\n",
       "    }\n",
       "\n",
       "    .dataframe tbody tr th {\n",
       "        vertical-align: top;\n",
       "    }\n",
       "\n",
       "    .dataframe thead th {\n",
       "        text-align: right;\n",
       "    }\n",
       "</style>\n",
       "<table border=\"1\" class=\"dataframe\">\n",
       "  <thead>\n",
       "    <tr style=\"text-align: right;\">\n",
       "      <th></th>\n",
       "      <th>mutant</th>\n",
       "      <th>no-call</th>\n",
       "      <th>res</th>\n",
       "      <th>sens</th>\n",
       "      <th>prop_call_res</th>\n",
       "      <th>prop_call_sens</th>\n",
       "      <th>prop_call_nocall</th>\n",
       "      <th>cell_track_count</th>\n",
       "      <th>prop_PC1_batch_flag</th>\n",
       "      <th>prop_PC2_batch_flag</th>\n",
       "    </tr>\n",
       "  </thead>\n",
       "  <tbody>\n",
       "    <tr>\n",
       "      <th>35</th>\n",
       "      <td>L785F</td>\n",
       "      <td>0.0</td>\n",
       "      <td>450.0</td>\n",
       "      <td>0.0</td>\n",
       "      <td>1.000000</td>\n",
       "      <td>0.000000</td>\n",
       "      <td>0.000000</td>\n",
       "      <td>74</td>\n",
       "      <td>0.0</td>\n",
       "      <td>0.02</td>\n",
       "    </tr>\n",
       "    <tr>\n",
       "      <th>74</th>\n",
       "      <td>V797A</td>\n",
       "      <td>14.0</td>\n",
       "      <td>435.0</td>\n",
       "      <td>1.0</td>\n",
       "      <td>0.966667</td>\n",
       "      <td>0.002222</td>\n",
       "      <td>0.031111</td>\n",
       "      <td>104</td>\n",
       "      <td>0.0</td>\n",
       "      <td>0.00</td>\n",
       "    </tr>\n",
       "    <tr>\n",
       "      <th>23</th>\n",
       "      <td>G778S779INSLPS</td>\n",
       "      <td>25.0</td>\n",
       "      <td>421.0</td>\n",
       "      <td>4.0</td>\n",
       "      <td>0.935556</td>\n",
       "      <td>0.008889</td>\n",
       "      <td>0.055556</td>\n",
       "      <td>284</td>\n",
       "      <td>0.0</td>\n",
       "      <td>0.00</td>\n",
       "    </tr>\n",
       "    <tr>\n",
       "      <th>60</th>\n",
       "      <td>R929W</td>\n",
       "      <td>35.0</td>\n",
       "      <td>387.0</td>\n",
       "      <td>28.0</td>\n",
       "      <td>0.860000</td>\n",
       "      <td>0.062222</td>\n",
       "      <td>0.077778</td>\n",
       "      <td>148</td>\n",
       "      <td>0.0</td>\n",
       "      <td>0.00</td>\n",
       "    </tr>\n",
       "    <tr>\n",
       "      <th>81</th>\n",
       "      <td>Y722V773INSRDGE</td>\n",
       "      <td>75.0</td>\n",
       "      <td>374.0</td>\n",
       "      <td>1.0</td>\n",
       "      <td>0.831111</td>\n",
       "      <td>0.002222</td>\n",
       "      <td>0.166667</td>\n",
       "      <td>58</td>\n",
       "      <td>0.0</td>\n",
       "      <td>0.00</td>\n",
       "    </tr>\n",
       "    <tr>\n",
       "      <th>18</th>\n",
       "      <td>F976L</td>\n",
       "      <td>124.0</td>\n",
       "      <td>289.0</td>\n",
       "      <td>37.0</td>\n",
       "      <td>0.642222</td>\n",
       "      <td>0.082222</td>\n",
       "      <td>0.275556</td>\n",
       "      <td>72</td>\n",
       "      <td>0.0</td>\n",
       "      <td>0.00</td>\n",
       "    </tr>\n",
       "    <tr>\n",
       "      <th>33</th>\n",
       "      <td>L755S</td>\n",
       "      <td>190.0</td>\n",
       "      <td>226.0</td>\n",
       "      <td>34.0</td>\n",
       "      <td>0.502222</td>\n",
       "      <td>0.075556</td>\n",
       "      <td>0.422222</td>\n",
       "      <td>80</td>\n",
       "      <td>0.0</td>\n",
       "      <td>0.00</td>\n",
       "    </tr>\n",
       "    <tr>\n",
       "      <th>75</th>\n",
       "      <td>V842I</td>\n",
       "      <td>75.0</td>\n",
       "      <td>373.0</td>\n",
       "      <td>452.0</td>\n",
       "      <td>0.414444</td>\n",
       "      <td>0.502222</td>\n",
       "      <td>0.083333</td>\n",
       "      <td>268</td>\n",
       "      <td>0.0</td>\n",
       "      <td>0.00</td>\n",
       "    </tr>\n",
       "    <tr>\n",
       "      <th>82</th>\n",
       "      <td>Y835F</td>\n",
       "      <td>56.0</td>\n",
       "      <td>178.0</td>\n",
       "      <td>216.0</td>\n",
       "      <td>0.395556</td>\n",
       "      <td>0.480000</td>\n",
       "      <td>0.124444</td>\n",
       "      <td>126</td>\n",
       "      <td>0.0</td>\n",
       "      <td>0.00</td>\n",
       "    </tr>\n",
       "    <tr>\n",
       "      <th>56</th>\n",
       "      <td>R456C</td>\n",
       "      <td>106.0</td>\n",
       "      <td>156.0</td>\n",
       "      <td>188.0</td>\n",
       "      <td>0.346667</td>\n",
       "      <td>0.417778</td>\n",
       "      <td>0.235556</td>\n",
       "      <td>55</td>\n",
       "      <td>0.0</td>\n",
       "      <td>0.00</td>\n",
       "    </tr>\n",
       "  </tbody>\n",
       "</table>\n",
       "</div>"
      ],
      "text/plain": [
       "             mutant  no-call    res   sens  prop_call_res  prop_call_sens  \\\n",
       "35            L785F      0.0  450.0    0.0       1.000000        0.000000   \n",
       "74            V797A     14.0  435.0    1.0       0.966667        0.002222   \n",
       "23   G778S779INSLPS     25.0  421.0    4.0       0.935556        0.008889   \n",
       "60            R929W     35.0  387.0   28.0       0.860000        0.062222   \n",
       "81  Y722V773INSRDGE     75.0  374.0    1.0       0.831111        0.002222   \n",
       "18            F976L    124.0  289.0   37.0       0.642222        0.082222   \n",
       "33            L755S    190.0  226.0   34.0       0.502222        0.075556   \n",
       "75            V842I     75.0  373.0  452.0       0.414444        0.502222   \n",
       "82            Y835F     56.0  178.0  216.0       0.395556        0.480000   \n",
       "56            R456C    106.0  156.0  188.0       0.346667        0.417778   \n",
       "\n",
       "    prop_call_nocall  cell_track_count  prop_PC1_batch_flag  \\\n",
       "35          0.000000                74                  0.0   \n",
       "74          0.031111               104                  0.0   \n",
       "23          0.055556               284                  0.0   \n",
       "60          0.077778               148                  0.0   \n",
       "81          0.166667                58                  0.0   \n",
       "18          0.275556                72                  0.0   \n",
       "33          0.422222                80                  0.0   \n",
       "75          0.083333               268                  0.0   \n",
       "82          0.124444               126                  0.0   \n",
       "56          0.235556                55                  0.0   \n",
       "\n",
       "    prop_PC2_batch_flag  \n",
       "35                 0.02  \n",
       "74                 0.00  \n",
       "23                 0.00  \n",
       "60                 0.00  \n",
       "81                 0.00  \n",
       "18                 0.00  \n",
       "33                 0.00  \n",
       "75                 0.00  \n",
       "82                 0.00  \n",
       "56                 0.00  "
      ]
     },
     "execution_count": 19,
     "metadata": {},
     "output_type": "execute_result"
    }
   ],
   "source": [
    "conc_calls.sort_values('prop_call_res', ascending=False).head(10)"
   ]
  },
  {
   "cell_type": "markdown",
   "id": "6a1e1de3",
   "metadata": {},
   "source": [
    "## Sorted by proportion of calls made as `sensitive`"
   ]
  },
  {
   "cell_type": "code",
   "execution_count": 20,
   "id": "2d0ae8e1",
   "metadata": {},
   "outputs": [
    {
     "data": {
      "text/html": [
       "<div>\n",
       "<style scoped>\n",
       "    .dataframe tbody tr th:only-of-type {\n",
       "        vertical-align: middle;\n",
       "    }\n",
       "\n",
       "    .dataframe tbody tr th {\n",
       "        vertical-align: top;\n",
       "    }\n",
       "\n",
       "    .dataframe thead th {\n",
       "        text-align: right;\n",
       "    }\n",
       "</style>\n",
       "<table border=\"1\" class=\"dataframe\">\n",
       "  <thead>\n",
       "    <tr style=\"text-align: right;\">\n",
       "      <th></th>\n",
       "      <th>mutant</th>\n",
       "      <th>no-call</th>\n",
       "      <th>res</th>\n",
       "      <th>sens</th>\n",
       "      <th>prop_call_res</th>\n",
       "      <th>prop_call_sens</th>\n",
       "      <th>prop_call_nocall</th>\n",
       "      <th>cell_track_count</th>\n",
       "      <th>prop_PC1_batch_flag</th>\n",
       "      <th>prop_PC2_batch_flag</th>\n",
       "    </tr>\n",
       "  </thead>\n",
       "  <tbody>\n",
       "    <tr>\n",
       "      <th>28</th>\n",
       "      <td>I886M</td>\n",
       "      <td>0.0</td>\n",
       "      <td>0.0</td>\n",
       "      <td>450.0</td>\n",
       "      <td>0.0</td>\n",
       "      <td>1.0</td>\n",
       "      <td>0.0</td>\n",
       "      <td>62</td>\n",
       "      <td>0.142222</td>\n",
       "      <td>0.033333</td>\n",
       "    </tr>\n",
       "    <tr>\n",
       "      <th>68</th>\n",
       "      <td>T479M</td>\n",
       "      <td>0.0</td>\n",
       "      <td>0.0</td>\n",
       "      <td>450.0</td>\n",
       "      <td>0.0</td>\n",
       "      <td>1.0</td>\n",
       "      <td>0.0</td>\n",
       "      <td>256</td>\n",
       "      <td>0.000000</td>\n",
       "      <td>0.000000</td>\n",
       "    </tr>\n",
       "    <tr>\n",
       "      <th>29</th>\n",
       "      <td>L1197F</td>\n",
       "      <td>0.0</td>\n",
       "      <td>0.0</td>\n",
       "      <td>450.0</td>\n",
       "      <td>0.0</td>\n",
       "      <td>1.0</td>\n",
       "      <td>0.0</td>\n",
       "      <td>148</td>\n",
       "      <td>0.000000</td>\n",
       "      <td>0.000000</td>\n",
       "    </tr>\n",
       "    <tr>\n",
       "      <th>30</th>\n",
       "      <td>L313V</td>\n",
       "      <td>0.0</td>\n",
       "      <td>0.0</td>\n",
       "      <td>450.0</td>\n",
       "      <td>0.0</td>\n",
       "      <td>1.0</td>\n",
       "      <td>0.0</td>\n",
       "      <td>103</td>\n",
       "      <td>0.000000</td>\n",
       "      <td>0.017778</td>\n",
       "    </tr>\n",
       "    <tr>\n",
       "      <th>31</th>\n",
       "      <td>L43V</td>\n",
       "      <td>0.0</td>\n",
       "      <td>0.0</td>\n",
       "      <td>450.0</td>\n",
       "      <td>0.0</td>\n",
       "      <td>1.0</td>\n",
       "      <td>0.0</td>\n",
       "      <td>83</td>\n",
       "      <td>0.000000</td>\n",
       "      <td>0.000000</td>\n",
       "    </tr>\n",
       "    <tr>\n",
       "      <th>32</th>\n",
       "      <td>L662V</td>\n",
       "      <td>0.0</td>\n",
       "      <td>0.0</td>\n",
       "      <td>450.0</td>\n",
       "      <td>0.0</td>\n",
       "      <td>1.0</td>\n",
       "      <td>0.0</td>\n",
       "      <td>225</td>\n",
       "      <td>0.000000</td>\n",
       "      <td>0.000000</td>\n",
       "    </tr>\n",
       "    <tr>\n",
       "      <th>66</th>\n",
       "      <td>T297I</td>\n",
       "      <td>0.0</td>\n",
       "      <td>0.0</td>\n",
       "      <td>450.0</td>\n",
       "      <td>0.0</td>\n",
       "      <td>1.0</td>\n",
       "      <td>0.0</td>\n",
       "      <td>46</td>\n",
       "      <td>0.000000</td>\n",
       "      <td>0.000000</td>\n",
       "    </tr>\n",
       "    <tr>\n",
       "      <th>59</th>\n",
       "      <td>R897G</td>\n",
       "      <td>0.0</td>\n",
       "      <td>0.0</td>\n",
       "      <td>450.0</td>\n",
       "      <td>0.0</td>\n",
       "      <td>1.0</td>\n",
       "      <td>0.0</td>\n",
       "      <td>51</td>\n",
       "      <td>0.000000</td>\n",
       "      <td>0.000000</td>\n",
       "    </tr>\n",
       "    <tr>\n",
       "      <th>72</th>\n",
       "      <td>V424I</td>\n",
       "      <td>0.0</td>\n",
       "      <td>0.0</td>\n",
       "      <td>450.0</td>\n",
       "      <td>0.0</td>\n",
       "      <td>1.0</td>\n",
       "      <td>0.0</td>\n",
       "      <td>163</td>\n",
       "      <td>0.000000</td>\n",
       "      <td>0.000000</td>\n",
       "    </tr>\n",
       "    <tr>\n",
       "      <th>37</th>\n",
       "      <td>M833I</td>\n",
       "      <td>0.0</td>\n",
       "      <td>0.0</td>\n",
       "      <td>450.0</td>\n",
       "      <td>0.0</td>\n",
       "      <td>1.0</td>\n",
       "      <td>0.0</td>\n",
       "      <td>53</td>\n",
       "      <td>0.000000</td>\n",
       "      <td>0.000000</td>\n",
       "    </tr>\n",
       "  </tbody>\n",
       "</table>\n",
       "</div>"
      ],
      "text/plain": [
       "    mutant  no-call  res   sens  prop_call_res  prop_call_sens  \\\n",
       "28   I886M      0.0  0.0  450.0            0.0             1.0   \n",
       "68   T479M      0.0  0.0  450.0            0.0             1.0   \n",
       "29  L1197F      0.0  0.0  450.0            0.0             1.0   \n",
       "30   L313V      0.0  0.0  450.0            0.0             1.0   \n",
       "31    L43V      0.0  0.0  450.0            0.0             1.0   \n",
       "32   L662V      0.0  0.0  450.0            0.0             1.0   \n",
       "66   T297I      0.0  0.0  450.0            0.0             1.0   \n",
       "59   R897G      0.0  0.0  450.0            0.0             1.0   \n",
       "72   V424I      0.0  0.0  450.0            0.0             1.0   \n",
       "37   M833I      0.0  0.0  450.0            0.0             1.0   \n",
       "\n",
       "    prop_call_nocall  cell_track_count  prop_PC1_batch_flag  \\\n",
       "28               0.0                62             0.142222   \n",
       "68               0.0               256             0.000000   \n",
       "29               0.0               148             0.000000   \n",
       "30               0.0               103             0.000000   \n",
       "31               0.0                83             0.000000   \n",
       "32               0.0               225             0.000000   \n",
       "66               0.0                46             0.000000   \n",
       "59               0.0                51             0.000000   \n",
       "72               0.0               163             0.000000   \n",
       "37               0.0                53             0.000000   \n",
       "\n",
       "    prop_PC2_batch_flag  \n",
       "28             0.033333  \n",
       "68             0.000000  \n",
       "29             0.000000  \n",
       "30             0.017778  \n",
       "31             0.000000  \n",
       "32             0.000000  \n",
       "66             0.000000  \n",
       "59             0.000000  \n",
       "72             0.000000  \n",
       "37             0.000000  "
      ]
     },
     "execution_count": 20,
     "metadata": {},
     "output_type": "execute_result"
    }
   ],
   "source": [
    "conc_calls.sort_values('prop_call_sens', ascending=False).head(10)"
   ]
  },
  {
   "cell_type": "markdown",
   "id": "7322a853",
   "metadata": {},
   "source": [
    "## Sorted by proportion of calls made as `no-call`"
   ]
  },
  {
   "cell_type": "code",
   "execution_count": 21,
   "id": "efe6412f",
   "metadata": {},
   "outputs": [
    {
     "data": {
      "text/html": [
       "<div>\n",
       "<style scoped>\n",
       "    .dataframe tbody tr th:only-of-type {\n",
       "        vertical-align: middle;\n",
       "    }\n",
       "\n",
       "    .dataframe tbody tr th {\n",
       "        vertical-align: top;\n",
       "    }\n",
       "\n",
       "    .dataframe thead th {\n",
       "        text-align: right;\n",
       "    }\n",
       "</style>\n",
       "<table border=\"1\" class=\"dataframe\">\n",
       "  <thead>\n",
       "    <tr style=\"text-align: right;\">\n",
       "      <th></th>\n",
       "      <th>mutant</th>\n",
       "      <th>no-call</th>\n",
       "      <th>res</th>\n",
       "      <th>sens</th>\n",
       "      <th>prop_call_res</th>\n",
       "      <th>prop_call_sens</th>\n",
       "      <th>prop_call_nocall</th>\n",
       "      <th>cell_track_count</th>\n",
       "      <th>prop_PC1_batch_flag</th>\n",
       "      <th>prop_PC2_batch_flag</th>\n",
       "    </tr>\n",
       "  </thead>\n",
       "  <tbody>\n",
       "    <tr>\n",
       "      <th>34</th>\n",
       "      <td>L755T759DEL</td>\n",
       "      <td>381.0</td>\n",
       "      <td>63.0</td>\n",
       "      <td>6.0</td>\n",
       "      <td>0.140000</td>\n",
       "      <td>0.013333</td>\n",
       "      <td>0.846667</td>\n",
       "      <td>126</td>\n",
       "      <td>0.0</td>\n",
       "      <td>0.017778</td>\n",
       "    </tr>\n",
       "    <tr>\n",
       "      <th>33</th>\n",
       "      <td>L755S</td>\n",
       "      <td>190.0</td>\n",
       "      <td>226.0</td>\n",
       "      <td>34.0</td>\n",
       "      <td>0.502222</td>\n",
       "      <td>0.075556</td>\n",
       "      <td>0.422222</td>\n",
       "      <td>80</td>\n",
       "      <td>0.0</td>\n",
       "      <td>0.000000</td>\n",
       "    </tr>\n",
       "    <tr>\n",
       "      <th>50</th>\n",
       "      <td>R1153L</td>\n",
       "      <td>129.0</td>\n",
       "      <td>101.0</td>\n",
       "      <td>220.0</td>\n",
       "      <td>0.224444</td>\n",
       "      <td>0.488889</td>\n",
       "      <td>0.286667</td>\n",
       "      <td>126</td>\n",
       "      <td>0.0</td>\n",
       "      <td>0.000000</td>\n",
       "    </tr>\n",
       "    <tr>\n",
       "      <th>36</th>\n",
       "      <td>L869R</td>\n",
       "      <td>127.0</td>\n",
       "      <td>87.0</td>\n",
       "      <td>236.0</td>\n",
       "      <td>0.193333</td>\n",
       "      <td>0.524444</td>\n",
       "      <td>0.282222</td>\n",
       "      <td>61</td>\n",
       "      <td>0.0</td>\n",
       "      <td>0.020000</td>\n",
       "    </tr>\n",
       "    <tr>\n",
       "      <th>0</th>\n",
       "      <td>A1039T</td>\n",
       "      <td>126.0</td>\n",
       "      <td>29.0</td>\n",
       "      <td>295.0</td>\n",
       "      <td>0.064444</td>\n",
       "      <td>0.655556</td>\n",
       "      <td>0.280000</td>\n",
       "      <td>125</td>\n",
       "      <td>0.0</td>\n",
       "      <td>0.000000</td>\n",
       "    </tr>\n",
       "  </tbody>\n",
       "</table>\n",
       "</div>"
      ],
      "text/plain": [
       "         mutant  no-call    res   sens  prop_call_res  prop_call_sens  \\\n",
       "34  L755T759DEL    381.0   63.0    6.0       0.140000        0.013333   \n",
       "33        L755S    190.0  226.0   34.0       0.502222        0.075556   \n",
       "50       R1153L    129.0  101.0  220.0       0.224444        0.488889   \n",
       "36        L869R    127.0   87.0  236.0       0.193333        0.524444   \n",
       "0        A1039T    126.0   29.0  295.0       0.064444        0.655556   \n",
       "\n",
       "    prop_call_nocall  cell_track_count  prop_PC1_batch_flag  \\\n",
       "34          0.846667               126                  0.0   \n",
       "33          0.422222                80                  0.0   \n",
       "50          0.286667               126                  0.0   \n",
       "36          0.282222                61                  0.0   \n",
       "0           0.280000               125                  0.0   \n",
       "\n",
       "    prop_PC2_batch_flag  \n",
       "34             0.017778  \n",
       "33             0.000000  \n",
       "50             0.000000  \n",
       "36             0.020000  \n",
       "0              0.000000  "
      ]
     },
     "execution_count": 21,
     "metadata": {},
     "output_type": "execute_result"
    }
   ],
   "source": [
    "conc_calls.sort_values('prop_call_nocall', ascending=False).head(5)"
   ]
  },
  {
   "cell_type": "code",
   "execution_count": 22,
   "id": "7f384f47",
   "metadata": {},
   "outputs": [
    {
     "data": {
      "text/html": [
       "<div>\n",
       "<style scoped>\n",
       "    .dataframe tbody tr th:only-of-type {\n",
       "        vertical-align: middle;\n",
       "    }\n",
       "\n",
       "    .dataframe tbody tr th {\n",
       "        vertical-align: top;\n",
       "    }\n",
       "\n",
       "    .dataframe thead th {\n",
       "        text-align: right;\n",
       "    }\n",
       "</style>\n",
       "<table border=\"1\" class=\"dataframe\">\n",
       "  <thead>\n",
       "    <tr style=\"text-align: right;\">\n",
       "      <th></th>\n",
       "      <th>mutant</th>\n",
       "      <th>no-call</th>\n",
       "      <th>res</th>\n",
       "      <th>sens</th>\n",
       "      <th>prop_call_res</th>\n",
       "      <th>prop_call_sens</th>\n",
       "      <th>prop_call_nocall</th>\n",
       "      <th>cell_track_count</th>\n",
       "      <th>prop_PC1_batch_flag</th>\n",
       "      <th>prop_PC2_batch_flag</th>\n",
       "    </tr>\n",
       "  </thead>\n",
       "  <tbody>\n",
       "    <tr>\n",
       "      <th>13</th>\n",
       "      <td>E717K</td>\n",
       "      <td>10.0</td>\n",
       "      <td>44.0</td>\n",
       "      <td>396.0</td>\n",
       "      <td>0.097778</td>\n",
       "      <td>0.880000</td>\n",
       "      <td>0.022222</td>\n",
       "      <td>129</td>\n",
       "      <td>0.142222</td>\n",
       "      <td>0.033333</td>\n",
       "    </tr>\n",
       "    <tr>\n",
       "      <th>26</th>\n",
       "      <td>I435L</td>\n",
       "      <td>29.0</td>\n",
       "      <td>45.0</td>\n",
       "      <td>376.0</td>\n",
       "      <td>0.100000</td>\n",
       "      <td>0.835556</td>\n",
       "      <td>0.064444</td>\n",
       "      <td>191</td>\n",
       "      <td>0.142222</td>\n",
       "      <td>0.033333</td>\n",
       "    </tr>\n",
       "    <tr>\n",
       "      <th>21</th>\n",
       "      <td>G621AFS31</td>\n",
       "      <td>2.0</td>\n",
       "      <td>0.0</td>\n",
       "      <td>448.0</td>\n",
       "      <td>0.000000</td>\n",
       "      <td>0.995556</td>\n",
       "      <td>0.004444</td>\n",
       "      <td>84</td>\n",
       "      <td>0.142222</td>\n",
       "      <td>0.033333</td>\n",
       "    </tr>\n",
       "    <tr>\n",
       "      <th>28</th>\n",
       "      <td>I886M</td>\n",
       "      <td>0.0</td>\n",
       "      <td>0.0</td>\n",
       "      <td>450.0</td>\n",
       "      <td>0.000000</td>\n",
       "      <td>1.000000</td>\n",
       "      <td>0.000000</td>\n",
       "      <td>62</td>\n",
       "      <td>0.142222</td>\n",
       "      <td>0.033333</td>\n",
       "    </tr>\n",
       "    <tr>\n",
       "      <th>9</th>\n",
       "      <td>D769Y</td>\n",
       "      <td>38.0</td>\n",
       "      <td>145.0</td>\n",
       "      <td>267.0</td>\n",
       "      <td>0.322222</td>\n",
       "      <td>0.593333</td>\n",
       "      <td>0.084444</td>\n",
       "      <td>145</td>\n",
       "      <td>0.142222</td>\n",
       "      <td>0.033333</td>\n",
       "    </tr>\n",
       "  </tbody>\n",
       "</table>\n",
       "</div>"
      ],
      "text/plain": [
       "       mutant  no-call    res   sens  prop_call_res  prop_call_sens  \\\n",
       "13      E717K     10.0   44.0  396.0       0.097778        0.880000   \n",
       "26      I435L     29.0   45.0  376.0       0.100000        0.835556   \n",
       "21  G621AFS31      2.0    0.0  448.0       0.000000        0.995556   \n",
       "28      I886M      0.0    0.0  450.0       0.000000        1.000000   \n",
       "9       D769Y     38.0  145.0  267.0       0.322222        0.593333   \n",
       "\n",
       "    prop_call_nocall  cell_track_count  prop_PC1_batch_flag  \\\n",
       "13          0.022222               129             0.142222   \n",
       "26          0.064444               191             0.142222   \n",
       "21          0.004444                84             0.142222   \n",
       "28          0.000000                62             0.142222   \n",
       "9           0.084444               145             0.142222   \n",
       "\n",
       "    prop_PC2_batch_flag  \n",
       "13             0.033333  \n",
       "26             0.033333  \n",
       "21             0.033333  \n",
       "28             0.033333  \n",
       "9              0.033333  "
      ]
     },
     "execution_count": 22,
     "metadata": {},
     "output_type": "execute_result"
    }
   ],
   "source": [
    "conc_calls.sort_values('prop_PC1_batch_flag', ascending=False).head(5)"
   ]
  },
  {
   "cell_type": "code",
   "execution_count": 23,
   "id": "6089170e",
   "metadata": {},
   "outputs": [
    {
     "data": {
      "text/html": [
       "<div>\n",
       "<style scoped>\n",
       "    .dataframe tbody tr th:only-of-type {\n",
       "        vertical-align: middle;\n",
       "    }\n",
       "\n",
       "    .dataframe tbody tr th {\n",
       "        vertical-align: top;\n",
       "    }\n",
       "\n",
       "    .dataframe thead th {\n",
       "        text-align: right;\n",
       "    }\n",
       "</style>\n",
       "<table border=\"1\" class=\"dataframe\">\n",
       "  <thead>\n",
       "    <tr style=\"text-align: right;\">\n",
       "      <th></th>\n",
       "      <th>mutant</th>\n",
       "      <th>no-call</th>\n",
       "      <th>res</th>\n",
       "      <th>sens</th>\n",
       "      <th>prop_call_res</th>\n",
       "      <th>prop_call_sens</th>\n",
       "      <th>prop_call_nocall</th>\n",
       "      <th>cell_track_count</th>\n",
       "      <th>prop_PC1_batch_flag</th>\n",
       "      <th>prop_PC2_batch_flag</th>\n",
       "    </tr>\n",
       "  </thead>\n",
       "  <tbody>\n",
       "    <tr>\n",
       "      <th>14</th>\n",
       "      <td>E744D</td>\n",
       "      <td>44.0</td>\n",
       "      <td>58.0</td>\n",
       "      <td>348.0</td>\n",
       "      <td>0.128889</td>\n",
       "      <td>0.773333</td>\n",
       "      <td>0.097778</td>\n",
       "      <td>100</td>\n",
       "      <td>0.142222</td>\n",
       "      <td>0.033333</td>\n",
       "    </tr>\n",
       "    <tr>\n",
       "      <th>28</th>\n",
       "      <td>I886M</td>\n",
       "      <td>0.0</td>\n",
       "      <td>0.0</td>\n",
       "      <td>450.0</td>\n",
       "      <td>0.000000</td>\n",
       "      <td>1.000000</td>\n",
       "      <td>0.000000</td>\n",
       "      <td>62</td>\n",
       "      <td>0.142222</td>\n",
       "      <td>0.033333</td>\n",
       "    </tr>\n",
       "    <tr>\n",
       "      <th>21</th>\n",
       "      <td>G621AFS31</td>\n",
       "      <td>2.0</td>\n",
       "      <td>0.0</td>\n",
       "      <td>448.0</td>\n",
       "      <td>0.000000</td>\n",
       "      <td>0.995556</td>\n",
       "      <td>0.004444</td>\n",
       "      <td>84</td>\n",
       "      <td>0.142222</td>\n",
       "      <td>0.033333</td>\n",
       "    </tr>\n",
       "    <tr>\n",
       "      <th>26</th>\n",
       "      <td>I435L</td>\n",
       "      <td>29.0</td>\n",
       "      <td>45.0</td>\n",
       "      <td>376.0</td>\n",
       "      <td>0.100000</td>\n",
       "      <td>0.835556</td>\n",
       "      <td>0.064444</td>\n",
       "      <td>191</td>\n",
       "      <td>0.142222</td>\n",
       "      <td>0.033333</td>\n",
       "    </tr>\n",
       "    <tr>\n",
       "      <th>9</th>\n",
       "      <td>D769Y</td>\n",
       "      <td>38.0</td>\n",
       "      <td>145.0</td>\n",
       "      <td>267.0</td>\n",
       "      <td>0.322222</td>\n",
       "      <td>0.593333</td>\n",
       "      <td>0.084444</td>\n",
       "      <td>145</td>\n",
       "      <td>0.142222</td>\n",
       "      <td>0.033333</td>\n",
       "    </tr>\n",
       "  </tbody>\n",
       "</table>\n",
       "</div>"
      ],
      "text/plain": [
       "       mutant  no-call    res   sens  prop_call_res  prop_call_sens  \\\n",
       "14      E744D     44.0   58.0  348.0       0.128889        0.773333   \n",
       "28      I886M      0.0    0.0  450.0       0.000000        1.000000   \n",
       "21  G621AFS31      2.0    0.0  448.0       0.000000        0.995556   \n",
       "26      I435L     29.0   45.0  376.0       0.100000        0.835556   \n",
       "9       D769Y     38.0  145.0  267.0       0.322222        0.593333   \n",
       "\n",
       "    prop_call_nocall  cell_track_count  prop_PC1_batch_flag  \\\n",
       "14          0.097778               100             0.142222   \n",
       "28          0.000000                62             0.142222   \n",
       "21          0.004444                84             0.142222   \n",
       "26          0.064444               191             0.142222   \n",
       "9           0.084444               145             0.142222   \n",
       "\n",
       "    prop_PC2_batch_flag  \n",
       "14             0.033333  \n",
       "28             0.033333  \n",
       "21             0.033333  \n",
       "26             0.033333  \n",
       "9              0.033333  "
      ]
     },
     "execution_count": 23,
     "metadata": {},
     "output_type": "execute_result"
    }
   ],
   "source": [
    "conc_calls.sort_values('prop_PC2_batch_flag', ascending=False).head(5)"
   ]
  },
  {
   "cell_type": "markdown",
   "id": "4d1c905d",
   "metadata": {},
   "source": [
    "## Distribution of concordant resistance calls \n",
    "\n",
    "X-axis indicates the proportion of resistance calls made for a given mutant, and y-axis indicates the number of mutants in that range."
   ]
  },
  {
   "cell_type": "code",
   "execution_count": 24,
   "id": "23851199",
   "metadata": {},
   "outputs": [
    {
     "data": {
      "image/png": "[encoded data removed]",
      "text/plain": [
       "<Figure size 432x288 with 1 Axes>"
      ]
     },
     "metadata": {
      "needs_background": "light"
     },
     "output_type": "display_data"
    }
   ],
   "source": [
    "plt.figure()\n",
    "plt.hist(conc_calls.prop_call_res, bins=15)\n",
    "plt.yscale('log')\n",
    "plt.xlabel('proportion of concordant resistant calls')\n",
    "plt.show()"
   ]
  },
  {
   "cell_type": "code",
   "execution_count": 25,
   "id": "a9aafc0d",
   "metadata": {},
   "outputs": [
    {
     "data": {
      "text/plain": [
       "5"
      ]
     },
     "execution_count": 25,
     "metadata": {},
     "output_type": "execute_result"
    }
   ],
   "source": [
    "np.sum( conc_calls.prop_call_res > 0.75 )"
   ]
  },
  {
   "cell_type": "code",
   "execution_count": 26,
   "id": "ac8fca45",
   "metadata": {},
   "outputs": [
    {
     "data": {
      "text/plain": [
       "array(['G778S779INSLPS', 'L785F', 'R929W', 'V797A', 'Y722V773INSRDGE'],\n",
       "      dtype=object)"
      ]
     },
     "execution_count": 26,
     "metadata": {},
     "output_type": "execute_result"
    }
   ],
   "source": [
    "# Most resistant mutants \n",
    "conc_res_obs_ids = conc_calls[conc_calls.prop_call_res > 0.75].reset_index().mutant.values\n",
    "conc_res_obs_ids"
   ]
  },
  {
   "cell_type": "markdown",
   "id": "41c12e59",
   "metadata": {},
   "source": [
    "# Cell track correlation with resistance\n",
    "\n",
    "One element to investigate as a potential confounding factor is how the number of cell tracks in a given group (cell line, mutant, treatment) correlates to the final assigned proportion of resistant calls. "
   ]
  },
  {
   "cell_type": "code",
   "execution_count": 27,
   "id": "bbfd383f",
   "metadata": {},
   "outputs": [
    {
     "name": "stdout",
     "output_type": "stream",
     "text": [
      "                            OLS Regression Results                            \n",
      "==============================================================================\n",
      "Dep. Variable:          prop_call_res   R-squared:                       0.009\n",
      "Model:                            OLS   Adj. R-squared:                 -0.003\n",
      "Method:                 Least Squares   F-statistic:                    0.7271\n",
      "Date:                Thu, 08 Jul 2021   Prob (F-statistic):              0.396\n",
      "Time:                        10:35:17   Log-Likelihood:                0.51026\n",
      "No. Observations:                  82   AIC:                             2.979\n",
      "Df Residuals:                      80   BIC:                             7.793\n",
      "Df Model:                           1                                         \n",
      "Covariance Type:            nonrobust                                         \n",
      "====================================================================================\n",
      "                       coef    std err          t      P>|t|      [0.025      0.975]\n",
      "------------------------------------------------------------------------------------\n",
      "Intercept            0.0722      0.053      1.353      0.180      -0.034       0.178\n",
      "cell_track_count     0.0003      0.000      0.853      0.396      -0.000       0.001\n",
      "==============================================================================\n",
      "Omnibus:                       57.747   Durbin-Watson:                   1.855\n",
      "Prob(Omnibus):                  0.000   Jarque-Bera (JB):              183.135\n",
      "Skew:                           2.495   Prob(JB):                     1.71e-40\n",
      "Kurtosis:                       8.358   Cond. No.                         265.\n",
      "==============================================================================\n",
      "\n",
      "Notes:\n",
      "[1] Standard Errors assume that the covariance matrix of the errors is correctly specified.\n"
     ]
    }
   ],
   "source": [
    "lm = ols('prop_call_res ~ cell_track_count', data=conc_calls[conc_calls.cell_track_count < 500]).fit(maxiter=50) #Specify C for Categorical\n",
    "print( lm.summary() )"
   ]
  },
  {
   "cell_type": "code",
   "execution_count": 28,
   "id": "3f1dbb86",
   "metadata": {},
   "outputs": [
    {
     "data": {
      "image/png": "[encoded data removed]",
      "text/plain": [
       "<Figure size 432x288 with 1 Axes>"
      ]
     },
     "metadata": {
      "needs_background": "light"
     },
     "output_type": "display_data"
    }
   ],
   "source": [
    "plt.figure()\n",
    "sbn.regplot(x='cell_track_count', y='prop_call_res', data=conc_calls[conc_calls.cell_track_count < 500])\n",
    "plt.show()"
   ]
  },
  {
   "cell_type": "markdown",
   "id": "4c44b7a5",
   "metadata": {},
   "source": [
    "# Model variance \n",
    "\n",
    "To investigate if replicates produce similar or concordant results. (e.g., same data, same hyper params, different inital conditions or seeds) "
   ]
  },
  {
   "cell_type": "code",
   "execution_count": 29,
   "id": "80256f82",
   "metadata": {},
   "outputs": [
    {
     "data": {
      "text/html": [
       "<div>\n",
       "<style scoped>\n",
       "    .dataframe tbody tr th:only-of-type {\n",
       "        vertical-align: middle;\n",
       "    }\n",
       "\n",
       "    .dataframe tbody tr th {\n",
       "        vertical-align: top;\n",
       "    }\n",
       "\n",
       "    .dataframe thead th {\n",
       "        text-align: right;\n",
       "    }\n",
       "</style>\n",
       "<table border=\"1\" class=\"dataframe\">\n",
       "  <thead>\n",
       "    <tr style=\"text-align: right;\">\n",
       "      <th></th>\n",
       "      <th>nclus</th>\n",
       "      <th>load</th>\n",
       "      <th>resample_sz</th>\n",
       "      <th>corr_mean</th>\n",
       "      <th>corr_std</th>\n",
       "      <th>corr_min</th>\n",
       "      <th>corr_max</th>\n",
       "      <th>corr_min_unit</th>\n",
       "    </tr>\n",
       "  </thead>\n",
       "  <tbody>\n",
       "    <tr>\n",
       "      <th>0</th>\n",
       "      <td>20</td>\n",
       "      <td>normalized</td>\n",
       "      <td>75</td>\n",
       "      <td>0.992708</td>\n",
       "      <td>0.003559</td>\n",
       "      <td>0.978229</td>\n",
       "      <td>0.998173</td>\n",
       "      <td>0.978229</td>\n",
       "    </tr>\n",
       "    <tr>\n",
       "      <th>1</th>\n",
       "      <td>20</td>\n",
       "      <td>normalized</td>\n",
       "      <td>125</td>\n",
       "      <td>0.987437</td>\n",
       "      <td>0.008604</td>\n",
       "      <td>0.962486</td>\n",
       "      <td>0.998438</td>\n",
       "      <td>0.962486</td>\n",
       "    </tr>\n",
       "    <tr>\n",
       "      <th>2</th>\n",
       "      <td>20</td>\n",
       "      <td>normalized</td>\n",
       "      <td>100</td>\n",
       "      <td>0.991250</td>\n",
       "      <td>0.005367</td>\n",
       "      <td>0.968090</td>\n",
       "      <td>0.997940</td>\n",
       "      <td>0.968090</td>\n",
       "    </tr>\n",
       "    <tr>\n",
       "      <th>3</th>\n",
       "      <td>20</td>\n",
       "      <td>raw</td>\n",
       "      <td>75</td>\n",
       "      <td>0.989556</td>\n",
       "      <td>0.006124</td>\n",
       "      <td>0.970470</td>\n",
       "      <td>0.998565</td>\n",
       "      <td>0.970470</td>\n",
       "    </tr>\n",
       "    <tr>\n",
       "      <th>4</th>\n",
       "      <td>20</td>\n",
       "      <td>raw</td>\n",
       "      <td>125</td>\n",
       "      <td>0.990033</td>\n",
       "      <td>0.006623</td>\n",
       "      <td>0.966192</td>\n",
       "      <td>0.997888</td>\n",
       "      <td>0.966192</td>\n",
       "    </tr>\n",
       "  </tbody>\n",
       "</table>\n",
       "</div>"
      ],
      "text/plain": [
       "   nclus        load  resample_sz  corr_mean  corr_std  corr_min  corr_max  \\\n",
       "0     20  normalized           75   0.992708  0.003559  0.978229  0.998173   \n",
       "1     20  normalized          125   0.987437  0.008604  0.962486  0.998438   \n",
       "2     20  normalized          100   0.991250  0.005367  0.968090  0.997940   \n",
       "3     20         raw           75   0.989556  0.006124  0.970470  0.998565   \n",
       "4     20         raw          125   0.990033  0.006623  0.966192  0.997888   \n",
       "\n",
       "   corr_min_unit  \n",
       "0       0.978229  \n",
       "1       0.962486  \n",
       "2       0.968090  \n",
       "3       0.970470  \n",
       "4       0.966192  "
      ]
     },
     "execution_count": 29,
     "metadata": {},
     "output_type": "execute_result"
    }
   ],
   "source": [
    "def get_model_variance_stats(nclus, load, sz): \n",
    "    \n",
    "    _ids = run_res[lambda x: (x.nclus==nclus) & (x.load == load) & (x.resample_sz == sz)].run_id\n",
    "    mvar_ = prob_res[lambda x: x.run_id.isin(_ids)]\n",
    "    mvar_res = mvar_[['run_id', 'obs_id', 'prob_res']].pivot(columns='run_id', values='prob_res', index='obs_id')\n",
    "    mvar_mat = mvar_res.corr()\n",
    "\n",
    "    triu_idx = np.triu_indices(mvar_mat.shape[0], k=1)\n",
    "    corrs = mvar_mat.values[triu_idx]\n",
    "    corr_mean = corrs.mean()\n",
    "    corr_std = corrs.std()\n",
    "    corr_min = corrs.min()\n",
    "    corr_max = corrs.max()\n",
    "    return corr_mean, corr_std, corr_min, corr_max\n",
    "\n",
    "var_res = {'nclus':[], 'load':[], 'resample_sz':[], 'corr_mean':[], 'corr_std':[], 'corr_min':[], 'corr_max':[]}\n",
    "for nc in run_res.nclus.unique(): \n",
    "    for l in run_res.load.unique(): \n",
    "        for sz in run_res.resample_sz.unique(): \n",
    "            corr_mean, corr_std, corr_min, corr_max = get_model_variance_stats(nc, l, sz)\n",
    "            var_res['nclus'].append(nc)\n",
    "            var_res['load'].append(l)\n",
    "            var_res['resample_sz'].append(sz)\n",
    "            var_res['corr_mean'].append(corr_mean)\n",
    "            var_res['corr_std'].append(corr_std)\n",
    "            var_res['corr_min'].append(corr_min)\n",
    "            var_res['corr_max'].append(corr_max)\n",
    "            \n",
    "var_res = pd.DataFrame(var_res).assign(corr_min_unit = lambda x: x.corr_min.clip(0,1))\n",
    "var_res.head()"
   ]
  },
  {
   "cell_type": "code",
   "execution_count": 30,
   "id": "d23bf816",
   "metadata": {},
   "outputs": [
    {
     "name": "stdout",
     "output_type": "stream",
     "text": [
      "Optimization terminated successfully.\n",
      "         Current function value: 0.035275\n",
      "         Iterations 8\n",
      "Intercept      4.487377\n",
      "load[T.raw]    0.294953\n",
      "nclus         -0.038441\n",
      "resample_sz   -0.006378\n",
      "dtype: float64\n",
      "\n",
      "                    0          1\n",
      "Intercept   -7.565881  16.540635\n",
      "load[T.raw] -4.083781   4.673687\n",
      "nclus       -0.380943   0.304061\n",
      "resample_sz -0.113221   0.100465\n"
     ]
    }
   ],
   "source": [
    "lm = logit('corr_min_unit ~ nclus + resample_sz + load', data=var_res).fit() #Specify C for Categorical\n",
    "print(lm.params)\n",
    "print()\n",
    "print(lm.conf_int())\n",
    "#print()\n",
    "#print(sm.stats.anova_lm(lm))"
   ]
  },
  {
   "cell_type": "code",
   "execution_count": 31,
   "id": "c27d04de",
   "metadata": {},
   "outputs": [
    {
     "data": {
      "image/png": "[encoded data removed]",
      "text/plain": [
       "<Figure size 504x504 with 1 Axes>"
      ]
     },
     "metadata": {
      "needs_background": "light"
     },
     "output_type": "display_data"
    }
   ],
   "source": [
    "plt.figure(figsize=(7,7))\n",
    "sbn.regplot(x='nclus', y='corr_min_unit', data=var_res, logistic=True)\n",
    "#plt.legend(bbox_to_anchor=(1.05, 1), loc=2, borderaxespad=0.)\n",
    "plt.show()"
   ]
  },
  {
   "cell_type": "code",
   "execution_count": 32,
   "id": "ee887c16",
   "metadata": {},
   "outputs": [
    {
     "name": "stderr",
     "output_type": "stream",
     "text": [
      "No handles with labels found to put in legend.\n"
     ]
    },
    {
     "data": {
      "image/png": "[encoded data removed]",
      "text/plain": [
       "<Figure size 504x504 with 1 Axes>"
      ]
     },
     "metadata": {
      "needs_background": "light"
     },
     "output_type": "display_data"
    }
   ],
   "source": [
    "plt.figure(figsize=(7,7))\n",
    "sbn.regplot(x='resample_sz', y='corr_min', data=var_res, logistic=True)\n",
    "plt.legend(bbox_to_anchor=(1.05, 1), loc=2, borderaxespad=0.)\n",
    "plt.show()"
   ]
  },
  {
   "cell_type": "code",
   "execution_count": 33,
   "id": "1691f673",
   "metadata": {},
   "outputs": [
    {
     "name": "stderr",
     "output_type": "stream",
     "text": [
      "No handles with labels found to put in legend.\n"
     ]
    },
    {
     "data": {
      "image/png": "[encoded data removed]",
      "text/plain": [
       "<Figure size 504x504 with 1 Axes>"
      ]
     },
     "metadata": {
      "needs_background": "light"
     },
     "output_type": "display_data"
    }
   ],
   "source": [
    "plt.figure(figsize=(7,7))\n",
    "sbn.scatterplot(x='load', y='corr_min', data=var_res)\n",
    "plt.legend(bbox_to_anchor=(1.05, 1), loc=2, borderaxespad=0.)\n",
    "plt.show()"
   ]
  },
  {
   "cell_type": "markdown",
   "id": "c334ae2a",
   "metadata": {},
   "source": [
    "# Stable Configs\n"
   ]
  },
  {
   "cell_type": "code",
   "execution_count": 34,
   "id": "f1132b01",
   "metadata": {},
   "outputs": [
    {
     "data": {
      "text/html": [
       "<div>\n",
       "<style scoped>\n",
       "    .dataframe tbody tr th:only-of-type {\n",
       "        vertical-align: middle;\n",
       "    }\n",
       "\n",
       "    .dataframe tbody tr th {\n",
       "        vertical-align: top;\n",
       "    }\n",
       "\n",
       "    .dataframe thead th {\n",
       "        text-align: right;\n",
       "    }\n",
       "</style>\n",
       "<table border=\"1\" class=\"dataframe\">\n",
       "  <thead>\n",
       "    <tr style=\"text-align: right;\">\n",
       "      <th></th>\n",
       "      <th>nclus</th>\n",
       "      <th>load</th>\n",
       "      <th>resample_sz</th>\n",
       "      <th>corr_mean</th>\n",
       "      <th>corr_std</th>\n",
       "      <th>corr_min</th>\n",
       "      <th>corr_max</th>\n",
       "      <th>corr_min_unit</th>\n",
       "    </tr>\n",
       "  </thead>\n",
       "  <tbody>\n",
       "    <tr>\n",
       "      <th>0</th>\n",
       "      <td>20</td>\n",
       "      <td>normalized</td>\n",
       "      <td>75</td>\n",
       "      <td>0.992708</td>\n",
       "      <td>0.003559</td>\n",
       "      <td>0.978229</td>\n",
       "      <td>0.998173</td>\n",
       "      <td>0.978229</td>\n",
       "    </tr>\n",
       "    <tr>\n",
       "      <th>1</th>\n",
       "      <td>20</td>\n",
       "      <td>normalized</td>\n",
       "      <td>125</td>\n",
       "      <td>0.987437</td>\n",
       "      <td>0.008604</td>\n",
       "      <td>0.962486</td>\n",
       "      <td>0.998438</td>\n",
       "      <td>0.962486</td>\n",
       "    </tr>\n",
       "    <tr>\n",
       "      <th>2</th>\n",
       "      <td>20</td>\n",
       "      <td>normalized</td>\n",
       "      <td>100</td>\n",
       "      <td>0.991250</td>\n",
       "      <td>0.005367</td>\n",
       "      <td>0.968090</td>\n",
       "      <td>0.997940</td>\n",
       "      <td>0.968090</td>\n",
       "    </tr>\n",
       "    <tr>\n",
       "      <th>3</th>\n",
       "      <td>20</td>\n",
       "      <td>raw</td>\n",
       "      <td>75</td>\n",
       "      <td>0.989556</td>\n",
       "      <td>0.006124</td>\n",
       "      <td>0.970470</td>\n",
       "      <td>0.998565</td>\n",
       "      <td>0.970470</td>\n",
       "    </tr>\n",
       "    <tr>\n",
       "      <th>4</th>\n",
       "      <td>20</td>\n",
       "      <td>raw</td>\n",
       "      <td>125</td>\n",
       "      <td>0.990033</td>\n",
       "      <td>0.006623</td>\n",
       "      <td>0.966192</td>\n",
       "      <td>0.997888</td>\n",
       "      <td>0.966192</td>\n",
       "    </tr>\n",
       "  </tbody>\n",
       "</table>\n",
       "</div>"
      ],
      "text/plain": [
       "   nclus        load  resample_sz  corr_mean  corr_std  corr_min  corr_max  \\\n",
       "0     20  normalized           75   0.992708  0.003559  0.978229  0.998173   \n",
       "1     20  normalized          125   0.987437  0.008604  0.962486  0.998438   \n",
       "2     20  normalized          100   0.991250  0.005367  0.968090  0.997940   \n",
       "3     20         raw           75   0.989556  0.006124  0.970470  0.998565   \n",
       "4     20         raw          125   0.990033  0.006623  0.966192  0.997888   \n",
       "\n",
       "   corr_min_unit  \n",
       "0       0.978229  \n",
       "1       0.962486  \n",
       "2       0.968090  \n",
       "3       0.970470  \n",
       "4       0.966192  "
      ]
     },
     "execution_count": 34,
     "metadata": {},
     "output_type": "execute_result"
    }
   ],
   "source": [
    "var_res.head()"
   ]
  },
  {
   "cell_type": "code",
   "execution_count": 35,
   "id": "07709ec9",
   "metadata": {},
   "outputs": [
    {
     "data": {
      "image/png": "[encoded data removed]",
      "text/plain": [
       "<Figure size 720x720 with 2 Axes>"
      ]
     },
     "metadata": {
      "needs_background": "light"
     },
     "output_type": "display_data"
    }
   ],
   "source": [
    "var_res2 = var_res[lambda x: x.corr_min > 0.85][['resample_sz', 'nclus', 'load']].groupby(['resample_sz', 'nclus']).agg('-'.join).reset_index()\n",
    "var_mat = var_res2.assign(load= [0 if x=='raw' else (1 if x=='normalized' else 0.5) for x in var_res2.load])\n",
    "labels = var_res2.assign(load= ['R' if x=='raw' else ('N' if x=='normalized' else 'R/N') for x in var_res2.load]).pivot(columns='resample_sz', index='nclus', values='load')\n",
    "var_mat = var_mat.pivot(columns='resample_sz', index='nclus', values='load')\n",
    "\n",
    "plt.figure(figsize=(10,10))\n",
    "sbn.heatmap(var_mat, linewidths=.5, annot=labels.values, fmt='', vmin=0, vmax=1, center=0.5)\n",
    "plt.show()"
   ]
  },
  {
   "cell_type": "code",
   "execution_count": 36,
   "id": "c38a9544",
   "metadata": {},
   "outputs": [
    {
     "data": {
      "image/png": "[encoded data removed]",
      "text/plain": [
       "<Figure size 720x720 with 2 Axes>"
      ]
     },
     "metadata": {
      "needs_background": "light"
     },
     "output_type": "display_data"
    }
   ],
   "source": [
    "hi_ac = run_res.groupby(['nclus', 'resample_sz', 'load']).agg('mean')[['accuracy(train)']][lambda x: x['accuracy(train)'] == 1.]\n",
    "\n",
    "hi_ac = hi_ac.reset_index()[['nclus', 'resample_sz', 'load']].groupby(['resample_sz', 'nclus']).agg('-'.join).reset_index()\n",
    "\n",
    "acc_mat = hi_ac.assign(load= [0 if x=='raw' else (1 if x=='normalized' else 0.5) for x in hi_ac.load]).pivot(columns='resample_sz', index='nclus', values='load')\n",
    "labels = hi_ac.assign(load= ['R' if x=='raw' else ('N' if x=='normalized' else 'R/N') for x in hi_ac.load]).pivot(columns='resample_sz', index='nclus', values='load')\n",
    "\n",
    "plt.figure(figsize=(10,10))\n",
    "sbn.heatmap(acc_mat, linewidths=.5, annot=labels.values, fmt='', vmin=0, vmax=1, center=0.5)\n",
    "plt.show()"
   ]
  },
  {
   "cell_type": "code",
   "execution_count": null,
   "id": "ccc99d51",
   "metadata": {},
   "outputs": [],
   "source": []
  },
  {
   "cell_type": "code",
   "execution_count": null,
   "id": "d9ec6429",
   "metadata": {},
   "outputs": [],
   "source": []
  }
 ],
 "metadata": {
  "kernelspec": {
   "display_name": "Python 3",
   "language": "python",
   "name": "python3"
  },
  "language_info": {
   "codemirror_mode": {
    "name": "ipython",
    "version": 3
   },
   "file_extension": ".py",
   "mimetype": "text/x-python",
   "name": "python",
   "nbconvert_exporter": "python",
   "pygments_lexer": "ipython3",
   "version": "3.8.10"
  },
  "metadata": {
   "interpreter": {
    "hash": "05ae0ed5721944537fa190dd31308973d920dfea2c8f47de91172fb4fe675f01"
   }
  }
 },
 "nbformat": 4,
 "nbformat_minor": 5
}
