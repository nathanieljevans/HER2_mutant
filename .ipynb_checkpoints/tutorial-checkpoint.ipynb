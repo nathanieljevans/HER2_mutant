{
 "cells": [
  {
   "cell_type": "code",
   "execution_count": null,
   "metadata": {},
   "outputs": [],
   "source": [
    "%load_ext autoreload\n",
    "%autoreload 2\n",
    "\n",
    "import pandas as pd\n",
    "import numpy as np \n",
    "from matplotlib import pyplot as plt \n",
    "import seaborn as sbn \n",
    "\n",
    "import statsmodels.api as sm\n",
    "from sklearn.preprocessing import OneHotEncoder\n",
    "\n",
    "%aimport HER2_classifier"
   ]
  },
  {
   "cell_type": "code",
   "execution_count": null,
   "metadata": {},
   "outputs": [],
   "source": [
    "class myspace(object): \n",
    "    def __init__(self): \n",
    "        pass\n",
    "\n",
    "args                    =       myspace()\n",
    "args.data               =       ['./data/HER2_SKBR3_data_6-7-21/']\n",
    "args.out                =       ['./output/'] \n",
    "args.drug               =       ['Neratinib']              # ['Trastuzumab']\n",
    "args.sensitive_line     =       ['WT']\n",
    "args.resistant_line     =       ['T798I']                  # ['ND611]\n",
    "args.load               =       ['normalized']             # ['raw']\n",
    "args.nclus              =       [10]\n",
    "args.resample_sz        =       [125]\n",
    "args.burnin             =       [4]"
   ]
  },
  {
   "cell_type": "markdown",
   "metadata": {},
   "source": [
    "--- \n",
    "---\n",
    "# Load Data \n",
    "---\n",
    "---"
   ]
  },
  {
   "cell_type": "code",
   "execution_count": null,
   "metadata": {},
   "outputs": [],
   "source": [
    "data, clover_sel, mscarl_sel = HER2_classifier.load_data(args)\n",
    "print('len selector:', len(clover_sel))\n",
    "print(clover_sel[0:5])\n",
    "print(mscarl_sel[0:5])\n",
    "data.head()"
   ]
  },
  {
   "cell_type": "code",
   "execution_count": null,
   "metadata": {},
   "outputs": [],
   "source": [
    "data.drug.unique()"
   ]
  },
  {
   "cell_type": "code",
   "execution_count": null,
   "metadata": {},
   "outputs": [],
   "source": [
    "data.cell_line.unique()"
   ]
  },
  {
   "cell_type": "code",
   "execution_count": null,
   "metadata": {},
   "outputs": [],
   "source": [
    "data.mutant.unique()"
   ]
  },
  {
   "cell_type": "markdown",
   "metadata": {},
   "source": [
    "--- \n",
    "---\n",
    "# Filter NA \n",
    "---\n",
    "---"
   ]
  },
  {
   "cell_type": "code",
   "execution_count": null,
   "metadata": {},
   "outputs": [],
   "source": [
    "data, low_data_flags, clover_sel, mscarl_sel = HER2_classifier.filter_na(data, args, clover_sel, mscarl_sel)\n",
    "print('len selector:', len(clover_sel))\n",
    "print(clover_sel[0:5])\n",
    "print(mscarl_sel[0:5])\n",
    "data.head()"
   ]
  },
  {
   "cell_type": "code",
   "execution_count": null,
   "metadata": {},
   "outputs": [],
   "source": [
    "low_data_flags"
   ]
  },
  {
   "cell_type": "code",
   "execution_count": null,
   "metadata": {},
   "outputs": [],
   "source": [
    "plt.figure()\n",
    "plt.hist(low_data_flags.cell_track_count, bins=np.linspace(0,250,20))\n",
    "plt.show()"
   ]
  },
  {
   "cell_type": "markdown",
   "metadata": {},
   "source": [
    "--- \n",
    "---\n",
    "# Add `Burn-in`  \n",
    "\n",
    "Remove the first few time points  \n",
    "\n",
    "---\n",
    "---"
   ]
  },
  {
   "cell_type": "code",
   "execution_count": null,
   "metadata": {},
   "outputs": [],
   "source": [
    "clover_sel, mscarl_sel = HER2_classifier.burnin(args, clover_sel, mscarl_sel)\n",
    "print('len selector:', len(clover_sel))\n",
    "print('len selector:', len(mscarl_sel))\n",
    "print(clover_sel[0:5])\n",
    "print(mscarl_sel[0:5])"
   ]
  },
  {
   "cell_type": "markdown",
   "metadata": {},
   "source": [
    "--- \n",
    "---\n",
    "# Resample time-series\n",
    "---\n",
    "---"
   ]
  },
  {
   "cell_type": "code",
   "execution_count": null,
   "metadata": {},
   "outputs": [],
   "source": [
    "X_train = HER2_classifier.resample(data, args, clover_sel, mscarl_sel)"
   ]
  },
  {
   "cell_type": "markdown",
   "metadata": {},
   "source": [
    "--- \n",
    "---\n",
    "# Fit the time-series K-means clustering\n",
    "---\n",
    "---"
   ]
  },
  {
   "cell_type": "code",
   "execution_count": null,
   "metadata": {},
   "outputs": [],
   "source": [
    "y_pred, km = HER2_classifier.fit_timeseries_kmeans(args, X_train, plot=True, save=None)"
   ]
  },
  {
   "cell_type": "code",
   "execution_count": null,
   "metadata": {},
   "outputs": [],
   "source": [
    "X_train.shape"
   ]
  },
  {
   "cell_type": "code",
   "execution_count": null,
   "metadata": {},
   "outputs": [],
   "source": [
    "np.unique(y_pred)"
   ]
  },
  {
   "cell_type": "code",
   "execution_count": null,
   "metadata": {},
   "outputs": [],
   "source": [
    "alpha_ = 0.015\n",
    "\n",
    "for clus in range(args.nclus[0]): \n",
    "    clus_tracks = X_train[y_pred == clus, :, :]\n",
    "    erk_ = clus_tracks[:, :, 0]\n",
    "    akt_ = clus_tracks[:, :, 1]\n",
    "\n",
    "    f,axes = plt.subplots(1,2, figsize=(10,5), sharey=True)\n",
    "    axes[0].set_title('CLOVER - ERK')\n",
    "    axes[1].set_title('MSCARLET - AKT')\n",
    "\n",
    "    for t in erk_: \n",
    "        axes[0].plot(t, 'r-', alpha=alpha_)\n",
    "\n",
    "    for t in akt_: \n",
    "        axes[1].plot(t, 'b-', alpha=alpha_)\n",
    "\n",
    "    axes[0].plot(erk_.mean(axis=0), 'k--', linewidth=5, label='mean')\n",
    "    axes[1].plot(akt_.mean(axis=0), 'k--', linewidth=5, label='mean')\n",
    "\n",
    "    #axes[0].plot(np.median(erk_, axis=0), 'k-', linewidth=3, label='median')\n",
    "    #axes[1].plot(np.median(akt_, axis=0), 'k-', linewidth=3, label='median')\n",
    "\n",
    "    axes[0].set_ylabel('Pathway Reporter Value', fontsize=13)\n",
    "\n",
    "    axes[0].set_xlabel('Longitudinal measurement (15 min. incr.)', fontsize=12)\n",
    "    axes[1].set_xlabel('Longitudinal measurement (15 min. incr.)', fontsize=12)\n",
    "\n",
    "    plt.suptitle(f'CLUSTER: {clus + 1}')\n",
    "\n",
    "    axes[0].set_ylim(0,1); axes[1].set_ylim(0,1)\n",
    "    plt.tight_layout()\n",
    "    #plt.legend()\n",
    "    plt.savefig(f'./figs/cluster_{clus+1}')"
   ]
  },
  {
   "cell_type": "markdown",
   "metadata": {},
   "source": [
    "--- \n",
    "---\n",
    "# Calculate the cluster proportion \n",
    "\n",
    "...within each experiment. \n",
    "\n",
    "---\n",
    "---"
   ]
  },
  {
   "cell_type": "code",
   "execution_count": null,
   "metadata": {},
   "outputs": [],
   "source": [
    "cm, lb = HER2_classifier.quantify_cluster_prop(args, data, y_pred)\n",
    "cm.shape"
   ]
  },
  {
   "cell_type": "markdown",
   "metadata": {},
   "source": [
    "--- \n",
    "---\n",
    "# Resistance Signature \n",
    "\n",
    "---\n",
    "---"
   ]
  },
  {
   "cell_type": "code",
   "execution_count": null,
   "metadata": {},
   "outputs": [],
   "source": [
    "cm_df = pd.DataFrame(cm).assign(label=lb.classes_).rename({x:f'cluster_{x+1}' for x in range(len(lb.classes_))}, axis=1)\n",
    "cm_df = cm_df.assign(drug=[x.split('--')[0] for x in cm_df.label])\n",
    "cm_df = cm_df.assign(mutant=[x.split('--')[1] for x in cm_df.label])\n",
    "cm_df.head()"
   ]
  },
  {
   "cell_type": "code",
   "execution_count": null,
   "metadata": {},
   "outputs": [],
   "source": [
    "_line_sig = cm_df[lambda x: (x.mutant.isin([args.resistant_line[0], args.sensitive_line[0]]))]"
   ]
  },
  {
   "cell_type": "code",
   "execution_count": null,
   "metadata": {},
   "outputs": [],
   "source": [
    "_line_sig2 = _line_sig.drop('label', axis=1).set_index(['drug', 'mutant']).stack().reset_index().rename({'level_2':'feature', 0:'membership_prob'}, axis=1).assign(group=lambda x: [f'{mut}-{args.drug[0]}' if treat != 'untreated' else f'{mut}-{treat}' for mut, treat in zip(x.mutant.values, x.drug.values)])\n",
    "_line_sig2"
   ]
  },
  {
   "cell_type": "code",
   "execution_count": null,
   "metadata": {},
   "outputs": [],
   "source": [
    "plt.figure(figsize=(20,7))\n",
    "sbn.boxplot(x='feature', y='membership_prob', hue='group', data=_line_sig2, width=0.7)\n",
    "plt.show()"
   ]
  },
  {
   "cell_type": "code",
   "execution_count": null,
   "metadata": {},
   "outputs": [],
   "source": []
  },
  {
   "cell_type": "code",
   "execution_count": null,
   "metadata": {},
   "outputs": [],
   "source": []
  },
  {
   "cell_type": "markdown",
   "metadata": {},
   "source": [
    "--- \n",
    "---\n",
    "# Visualize the cluster co-occurence within experiment\n",
    "---\n",
    "---"
   ]
  },
  {
   "cell_type": "code",
   "execution_count": null,
   "metadata": {},
   "outputs": [],
   "source": [
    "HER2_classifier.plot_cluster_corr(cm, save=None)"
   ]
  },
  {
   "cell_type": "markdown",
   "metadata": {},
   "source": [
    "--- \n",
    "---\n",
    "# Plot hiearchichal clustering of cluster membership \n",
    "---\n",
    "---"
   ]
  },
  {
   "cell_type": "code",
   "execution_count": null,
   "metadata": {},
   "outputs": [],
   "source": [
    "HER2_classifier.plot_cluster_heatmap(cm, lb, save=None)"
   ]
  },
  {
   "cell_type": "markdown",
   "metadata": {},
   "source": [
    "--- \n",
    "---\n",
    "# Dimensionality Reduction \n",
    "---\n",
    "---"
   ]
  },
  {
   "cell_type": "code",
   "execution_count": null,
   "metadata": {},
   "outputs": [],
   "source": [
    "res, pca = HER2_classifier.reduce_dim(args, cm, lb, plot=True, save=None)"
   ]
  },
  {
   "cell_type": "code",
   "execution_count": null,
   "metadata": {},
   "outputs": [],
   "source": [
    "res"
   ]
  },
  {
   "cell_type": "code",
   "execution_count": null,
   "metadata": {},
   "outputs": [],
   "source": [
    "pc_loadings = pd.DataFrame({'clus_feat': range(pca.components_.shape[1]), 'PC1':pca.components_[0], 'PC2':pca.components_[1]})\n",
    "pc_loadings.head()"
   ]
  },
  {
   "cell_type": "code",
   "execution_count": null,
   "metadata": {},
   "outputs": [],
   "source": [
    "plt.figure(figsize=(10,7))\n",
    "sbn.barplot(x='clus_feat', y='PC1', data=pc_loadings, order=pc_loadings.sort_values(by='PC1').clus_feat)\n",
    "plt.show()"
   ]
  },
  {
   "cell_type": "code",
   "execution_count": null,
   "metadata": {},
   "outputs": [],
   "source": [
    "plt.figure(figsize=(10,7))\n",
    "sbn.barplot(x='clus_feat', y='PC2', data=pc_loadings, order=pc_loadings.sort_values(by='PC2').clus_feat)\n",
    "plt.show()"
   ]
  },
  {
   "cell_type": "code",
   "execution_count": null,
   "metadata": {},
   "outputs": [],
   "source": [
    "res[lambda x: (x.pc2 < -0.2) & (x.pc1 > 0.3)]"
   ]
  },
  {
   "cell_type": "markdown",
   "metadata": {},
   "source": [
    "---\n",
    "---\n",
    "# Check for Batch Effects\n",
    "---\n",
    "---"
   ]
  },
  {
   "cell_type": "code",
   "execution_count": null,
   "metadata": {},
   "outputs": [],
   "source": [
    "batch_res = HER2_classifier.check_batch_effects(args, res, plot=True, save=None)\n",
    "batch_res.head()"
   ]
  },
  {
   "cell_type": "markdown",
   "metadata": {},
   "source": [
    "--- \n",
    "---\n",
    "# Train classifier on `[positive/negative]` controls\n",
    "---\n",
    "---"
   ]
  },
  {
   "cell_type": "code",
   "execution_count": null,
   "metadata": {},
   "outputs": [],
   "source": [
    "model, accuracy = HER2_classifier.train_classifier(args, res, plot=True, save=None)"
   ]
  },
  {
   "cell_type": "markdown",
   "metadata": {},
   "source": [
    "--- \n",
    "---\n",
    "# Assign mutant sensitivity/resistance calls\n",
    "---\n",
    "---"
   ]
  },
  {
   "cell_type": "code",
   "execution_count": null,
   "metadata": {},
   "outputs": [],
   "source": [
    "prob_res = HER2_classifier.predict_mutants(args, model, res, batch_res, low_data_flags)\n",
    "prob_res"
   ]
  },
  {
   "cell_type": "code",
   "execution_count": null,
   "metadata": {},
   "outputs": [],
   "source": [
    "plt.figure(figsize=(10,10))\n",
    "sbn.scatterplot(x='pc1', y='pc2', data=prob_res[lambda x: ~x.mutant.isin(['WT', 'ND611', 'T798I'])], hue='prob_res', style='call', s=300)\n",
    "plt.show()"
   ]
  },
  {
   "cell_type": "code",
   "execution_count": null,
   "metadata": {},
   "outputs": [],
   "source": [
    "prob_res.sort_values('odds_ratio', ascending=False).head(10)[['pc1', 'pc2', 'mutant', 'treatment', 'prob_res', 'odds_ratio', 'call', 'PC1_batch_flag', 'PC2_batch_flag', 'low_data_flag']]"
   ]
  },
  {
   "cell_type": "code",
   "execution_count": null,
   "metadata": {},
   "outputs": [],
   "source": []
  },
  {
   "cell_type": "code",
   "execution_count": null,
   "metadata": {},
   "outputs": [],
   "source": [
    "prob_res[lambda x: (x.call == 'no-call') & (x.pc1 < 0)]"
   ]
  },
  {
   "cell_type": "code",
   "execution_count": null,
   "metadata": {},
   "outputs": [],
   "source": []
  },
  {
   "cell_type": "code",
   "execution_count": null,
   "metadata": {},
   "outputs": [],
   "source": []
  },
  {
   "cell_type": "code",
   "execution_count": null,
   "metadata": {},
   "outputs": [],
   "source": []
  },
  {
   "cell_type": "code",
   "execution_count": null,
   "metadata": {},
   "outputs": [],
   "source": []
  },
  {
   "cell_type": "code",
   "execution_count": null,
   "metadata": {},
   "outputs": [],
   "source": []
  }
 ],
 "metadata": {
  "kernelspec": {
   "display_name": "Python 3.8.10 64-bit ('HER2': conda)",
   "name": "python3810jvsc74a57bd005ae0ed5721944537fa190dd31308973d920dfea2c8f47de91172fb4fe675f01"
  },
  "language_info": {
   "codemirror_mode": {
    "name": "ipython",
    "version": 3
   },
   "file_extension": ".py",
   "mimetype": "text/x-python",
   "name": "python",
   "nbconvert_exporter": "python",
   "pygments_lexer": "ipython3",
   "version": "3.8.10"
  },
  "metadata": {
   "interpreter": {
    "hash": "05ae0ed5721944537fa190dd31308973d920dfea2c8f47de91172fb4fe675f01"
   }
  }
 },
 "nbformat": 4,
 "nbformat_minor": 2
}
